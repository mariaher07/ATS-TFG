{
  "nbformat": 4,
  "nbformat_minor": 0,
  "metadata": {
    "accelerator": "TPU",
    "colab": {
      "name": "load_preprocess_news.ipynb",
      "provenance": [],
      "collapsed_sections": []
    },
    "kernelspec": {
      "display_name": "Python 3",
      "language": "python",
      "name": "python3"
    },
    "language_info": {
      "codemirror_mode": {
        "name": "ipython",
        "version": 3
      },
      "file_extension": ".py",
      "mimetype": "text/x-python",
      "name": "python",
      "nbconvert_exporter": "python",
      "pygments_lexer": "ipython3",
      "version": "3.7.4"
    }
  },
  "cells": [
    {
      "cell_type": "markdown",
      "metadata": {
        "id": "oh_IU49kz9sp"
      },
      "source": [
        "#0. Imports"
      ]
    },
    {
      "cell_type": "code",
      "metadata": {
        "id": "Rw64tRilsJTl",
        "colab": {
          "base_uri": "https://localhost:8080/"
        },
        "outputId": "9737d6eb-722c-49cf-f951-aafe6918e331"
      },
      "source": [
        "from google.colab import drive\n",
        "drive.mount('/content/drive')\n",
        "data_path = ###\n",
        "results_path = ###"
      ],
      "execution_count": null,
      "outputs": [
        {
          "output_type": "stream",
          "text": [
            "Mounted at /content/drive\n"
          ],
          "name": "stdout"
        }
      ]
    },
    {
      "cell_type": "code",
      "metadata": {
        "id": "AJR8bl2_rEul",
        "colab": {
          "base_uri": "https://localhost:8080/"
        },
        "outputId": "60b6b47d-3185-4dc1-b980-f4ca3883d5cf"
      },
      "source": [
        "import numpy as np\n",
        "import pandas as pd \n",
        "import re\n",
        "import string\n",
        "\n",
        "from nltk import download\n",
        "download('stopwords')\n",
        "from nltk.corpus import stopwords\n",
        "import matplotlib.pyplot as plt\n"
      ],
      "execution_count": null,
      "outputs": [
        {
          "output_type": "stream",
          "text": [
            "[nltk_data] Downloading package stopwords to /root/nltk_data...\n",
            "[nltk_data]   Unzipping corpora/stopwords.zip.\n"
          ],
          "name": "stdout"
        }
      ]
    },
    {
      "cell_type": "markdown",
      "metadata": {
        "id": "T6BBk5lY0Az1"
      },
      "source": [
        "#1. Load dataset"
      ]
    },
    {
      "cell_type": "code",
      "metadata": {
        "id": "46G6F2DdrEux",
        "colab": {
          "base_uri": "https://localhost:8080/",
          "height": 220
        },
        "outputId": "62f5363e-5d26-4cac-ac03-d443ed41b490"
      },
      "source": [
        "reviews = pd.read_csv(data_path+\"news-summary/news_summary_more.csv\", encoding='latin-1')\n",
        "print(reviews.shape)\n",
        "reviews.head()"
      ],
      "execution_count": null,
      "outputs": [
        {
          "output_type": "stream",
          "text": [
            "(98401, 2)\n"
          ],
          "name": "stdout"
        },
        {
          "output_type": "execute_result",
          "data": {
            "text/html": [
              "<div>\n",
              "<style scoped>\n",
              "    .dataframe tbody tr th:only-of-type {\n",
              "        vertical-align: middle;\n",
              "    }\n",
              "\n",
              "    .dataframe tbody tr th {\n",
              "        vertical-align: top;\n",
              "    }\n",
              "\n",
              "    .dataframe thead th {\n",
              "        text-align: right;\n",
              "    }\n",
              "</style>\n",
              "<table border=\"1\" class=\"dataframe\">\n",
              "  <thead>\n",
              "    <tr style=\"text-align: right;\">\n",
              "      <th></th>\n",
              "      <th>headlines</th>\n",
              "      <th>text</th>\n",
              "    </tr>\n",
              "  </thead>\n",
              "  <tbody>\n",
              "    <tr>\n",
              "      <th>0</th>\n",
              "      <td>upGrad learner switches to career in ML &amp; Al w...</td>\n",
              "      <td>Saurav Kant, an alumnus of upGrad and IIIT-B's...</td>\n",
              "    </tr>\n",
              "    <tr>\n",
              "      <th>1</th>\n",
              "      <td>Delhi techie wins free food from Swiggy for on...</td>\n",
              "      <td>Kunal Shah's credit card bill payment platform...</td>\n",
              "    </tr>\n",
              "    <tr>\n",
              "      <th>2</th>\n",
              "      <td>New Zealand end Rohit Sharma-led India's 12-ma...</td>\n",
              "      <td>New Zealand defeated India by 8 wickets in the...</td>\n",
              "    </tr>\n",
              "    <tr>\n",
              "      <th>3</th>\n",
              "      <td>Aegon life iTerm insurance plan helps customer...</td>\n",
              "      <td>With Aegon Life iTerm Insurance plan, customer...</td>\n",
              "    </tr>\n",
              "    <tr>\n",
              "      <th>4</th>\n",
              "      <td>Have known Hirani for yrs, what if MeToo claim...</td>\n",
              "      <td>Speaking about the sexual harassment allegatio...</td>\n",
              "    </tr>\n",
              "  </tbody>\n",
              "</table>\n",
              "</div>"
            ],
            "text/plain": [
              "                                           headlines                                               text\n",
              "0  upGrad learner switches to career in ML & Al w...  Saurav Kant, an alumnus of upGrad and IIIT-B's...\n",
              "1  Delhi techie wins free food from Swiggy for on...  Kunal Shah's credit card bill payment platform...\n",
              "2  New Zealand end Rohit Sharma-led India's 12-ma...  New Zealand defeated India by 8 wickets in the...\n",
              "3  Aegon life iTerm insurance plan helps customer...  With Aegon Life iTerm Insurance plan, customer...\n",
              "4  Have known Hirani for yrs, what if MeToo claim...  Speaking about the sexual harassment allegatio..."
            ]
          },
          "metadata": {
            "tags": []
          },
          "execution_count": 3
        }
      ]
    },
    {
      "cell_type": "code",
      "metadata": {
        "colab": {
          "base_uri": "https://localhost:8080/"
        },
        "id": "HiAy3xbmrEvF",
        "outputId": "5e8fdf42-9da1-47b2-d902-dd0469b6a3f7"
      },
      "source": [
        "# check null values\n",
        "reviews.isnull().sum()"
      ],
      "execution_count": null,
      "outputs": [
        {
          "output_type": "execute_result",
          "data": {
            "text/plain": [
              "headlines    0\n",
              "text         0\n",
              "dtype: int64"
            ]
          },
          "metadata": {
            "tags": []
          },
          "execution_count": 4
        }
      ]
    },
    {
      "cell_type": "markdown",
      "metadata": {
        "id": "NOMNlPFErEva"
      },
      "source": [
        "#2. Preprocessing"
      ]
    },
    {
      "cell_type": "code",
      "metadata": {
        "id": "O_nWlhzXrEvc"
      },
      "source": [
        "# A list of contractions from http://stackoverflow.com/questions/19790188/expanding-english-language-contractions-in-python\n",
        "contractions =          {\"ain't\": \"is not\", \"aren't\": \"are not\",\"can't\": \"cannot\", \"'cause\": \"because\", \"could've\": \"could have\", \"couldn't\": \"could not\",\n",
        "                           \"didn't\": \"did not\",  \"doesn't\": \"does not\", \"don't\": \"do not\", \"hadn't\": \"had not\", \"hasn't\": \"has not\", \"haven't\": \"have not\",\n",
        "                           \"he'd\": \"he would\",\"he'll\": \"he will\", \"he's\": \"he is\", \"how'd\": \"how did\", \"how'd'y\": \"how do you\", \"how'll\": \"how will\", \"how's\": \"how is\",\n",
        "                           \"I'd\": \"I would\", \"I'd've\": \"I would have\", \"I'll\": \"I will\", \"I'll've\": \"I will have\",\"I'm\": \"I am\", \"I've\": \"I have\", \"i'd\": \"i would\",\n",
        "                           \"i'd've\": \"i would have\", \"i'll\": \"i will\",  \"i'll've\": \"i will have\",\"i'm\": \"i am\", \"i've\": \"i have\", \"isn't\": \"is not\", \"it'd\": \"it would\",\n",
        "                           \"it'd've\": \"it would have\", \"it'll\": \"it will\", \"it'll've\": \"it will have\",\"it's\": \"it is\", \"let's\": \"let us\", \"ma'am\": \"madam\",\n",
        "                           \"mayn't\": \"may not\", \"might've\": \"might have\",\"mightn't\": \"might not\",\"mightn't've\": \"might not have\", \"must've\": \"must have\",\n",
        "                           \"mustn't\": \"must not\", \"mustn't've\": \"must not have\", \"needn't\": \"need not\", \"needn't've\": \"need not have\",\"o'clock\": \"of the clock\",\n",
        "                           \"oughtn't\": \"ought not\", \"oughtn't've\": \"ought not have\", \"shan't\": \"shall not\", \"sha'n't\": \"shall not\", \"shan't've\": \"shall not have\",\n",
        "                           \"she'd\": \"she would\", \"she'd've\": \"she would have\", \"she'll\": \"she will\", \"she'll've\": \"she will have\", \"she's\": \"she is\",\n",
        "                           \"should've\": \"should have\", \"shouldn't\": \"should not\", \"shouldn't've\": \"should not have\", \"so've\": \"so have\",\"so's\": \"so as\",\n",
        "                           \"this's\": \"this is\",\"that'd\": \"that would\", \"that'd've\": \"that would have\", \"that's\": \"that is\", \"there'd\": \"there would\",\n",
        "                           \"there'd've\": \"there would have\", \"there's\": \"there is\", \"here's\": \"here is\",\"they'd\": \"they would\", \"they'd've\": \"they would have\",\n",
        "                           \"they'll\": \"they will\", \"they'll've\": \"they will have\", \"they're\": \"they are\", \"they've\": \"they have\", \"to've\": \"to have\",\n",
        "                           \"wasn't\": \"was not\", \"we'd\": \"we would\", \"we'd've\": \"we would have\", \"we'll\": \"we will\", \"we'll've\": \"we will have\", \"we're\": \"we are\",\n",
        "                           \"we've\": \"we have\", \"weren't\": \"were not\", \"what'll\": \"what will\", \"what'll've\": \"what will have\", \"what're\": \"what are\",\n",
        "                           \"what's\": \"what is\", \"what've\": \"what have\", \"when's\": \"when is\", \"when've\": \"when have\", \"where'd\": \"where did\", \"where's\": \"where is\",\n",
        "                           \"where've\": \"where have\", \"who'll\": \"who will\", \"who'll've\": \"who will have\", \"who's\": \"who is\", \"who've\": \"who have\",\n",
        "                           \"why's\": \"why is\", \"why've\": \"why have\", \"will've\": \"will have\", \"won't\": \"will not\", \"won't've\": \"will not have\",\n",
        "                           \"would've\": \"would have\", \"wouldn't\": \"would not\", \"wouldn't've\": \"would not have\", \"y'all\": \"you all\",\n",
        "                           \"y'all'd\": \"you all would\",\"y'all'd've\": \"you all would have\",\"y'all're\": \"you all are\",\"y'all've\": \"you all have\",\n",
        "                           \"you'd\": \"you would\", \"you'd've\": \"you would have\", \"you'll\": \"you will\", \"you'll've\": \"you will have\",\n",
        "                           \"you're\": \"you are\", \"you've\": \"you have\", \"i've\": \"i have\"}\n",
        "\n",
        "CURRENCIES = {\n",
        "    \"$\": \"USD\", \"zł\": \"PLN\", \"£\": \"GBP\", \"¥\": \"JPY\", \"฿\": \"THB\", \"₡\": \"CRC\", \"₦\": \"NGN\",\"₩\": \"KRW\",\n",
        "    \"₪\": \"ILS\", \"₫\": \"VND\", \"€\": \"EUR\", \"₱\": \"PHP\", \"₲\": \"PYG\", \"₴\": \"UAH\", \"₹\": \"INR\",}\n",
        "CURRENCY_REGEX = re.compile(\n",
        "    \"({})+\".format(\"|\".join(re.escape(c) for c in CURRENCIES.keys())))\n"
      ],
      "execution_count": null,
      "outputs": []
    },
    {
      "cell_type": "code",
      "metadata": {
        "id": "0bOwrO-f6CcH"
      },
      "source": [
        "def clean_text(text, remove_stopwords = True):\n",
        "    \n",
        "    #lower case\n",
        "    text = text.lower()\n",
        "\n",
        "    #remove contractions\n",
        "    if True:\n",
        "        text = text.split()\n",
        "        new_text = []\n",
        "        for word in text:\n",
        "            if word in contractions:\n",
        "                new_text.append(contractions[word])\n",
        "            else:\n",
        "                new_text.append(word)\n",
        "        text = \" \".join(new_text)\n",
        "\n",
        "    #remove unicode characters\n",
        "    text = text.encode('ascii', 'ignore').decode()\n",
        "\n",
        "    #remove stop words\n",
        "    if remove_stopwords:\n",
        "      stop_words = set(stopwords.words(\"english\"))\n",
        "      text = \" \".join([word for word in text.split()if word not in stop_words])\n",
        "\n",
        "    #remove punctuations\n",
        "    text = re.sub('[%s]' % re.escape(string.punctuation), ' ', text)\n",
        "\n",
        "    #remove currencies\n",
        "    text = CURRENCY_REGEX.sub(' ',text)\n",
        "\n",
        "    #remove numbers\n",
        "    text = re.sub(r'\\w*\\d+\\w*', '', text)\n",
        "\n",
        "    #replace the over spaces\n",
        "    text = re.sub('\\s{2,}', \" \", text)\n",
        "\n",
        "\n",
        "\n",
        "    return text\n"
      ],
      "execution_count": null,
      "outputs": []
    },
    {
      "cell_type": "code",
      "metadata": {
        "colab": {
          "base_uri": "https://localhost:8080/"
        },
        "id": "kyGo203_rEvx",
        "outputId": "315a3340-9d7f-4f61-f207-2b71cc7940f1"
      },
      "source": [
        "cleaned_headlines = []\n",
        "cleaned_text = []\n",
        "\n",
        "for headlines in reviews['headlines']:\n",
        "    cleaned_headlines.append(clean_text(headlines, remove_stopwords=False))\n",
        "print(\"Headlines are complete.\")\n",
        "\n",
        "for text in reviews['text']:\n",
        "    cleaned_text.append(clean_text(text))\n",
        "print(\"Texts are complete.\")"
      ],
      "execution_count": null,
      "outputs": [
        {
          "output_type": "stream",
          "text": [
            "Headlines are complete.\n",
            "Texts are complete.\n"
          ],
          "name": "stdout"
        }
      ]
    },
    {
      "cell_type": "code",
      "metadata": {
        "id": "l0iIs-OPrEwM",
        "colab": {
          "base_uri": "https://localhost:8080/"
        },
        "outputId": "7e980f67-5357-4e14-bf1f-a2e424a6d1be"
      },
      "source": [
        "# clean reviews\n",
        "for i in range(5):\n",
        "    print(\"Review: \",i+1)\n",
        "    print(cleaned_headlines[i])\n",
        "    print('-'*10)\n",
        "    print(cleaned_text[i])\n",
        "    print()"
      ],
      "execution_count": null,
      "outputs": [
        {
          "output_type": "stream",
          "text": [
            "Review:  1\n",
            "upgrad learner switches to career in ml al with salary hike\n",
            "----------\n",
            "saurav kant alumnus upgrad iiit b s pg program machine learning artificial intelligence sr systems engineer infosys almost years work experience program upgrad s degree career support helped transition data scientist tech mahindra salary hike upgrad s online power learning powered lakh careers \n",
            "\n",
            "Review:  2\n",
            "delhi techie wins free food from swiggy for one year on cred\n",
            "----------\n",
            "kunal shah s credit card bill payment platform cred gave users chance win free food swiggy one year pranav kaushik delhi techie bagged reward spending cred coins users get one cred coin per rupee bill paid used avail rewards brands like ixigo bookmyshow ubereats cult fit more \n",
            "\n",
            "Review:  3\n",
            "new zealand end rohit sharma led india s match winning streak\n",
            "----------\n",
            "new zealand defeated india wickets fourth odi hamilton thursday win first match five match odi series india lost international match rohit sharma s captaincy consecutive victories dating back march match witnessed india getting seventh lowest total odi cricket history \n",
            "\n",
            "Review:  4\n",
            "aegon life iterm insurance plan helps customers save tax\n",
            "----------\n",
            "aegon life iterm insurance plan customers enjoy tax benefits premiums paid save taxes plan provides life cover age years also customers options insure critical illnesses disability accidental death benefit rider life cover age years \n",
            "\n",
            "Review:  5\n",
            "have known hirani for yrs what if metoo claims are not true sonam\n",
            "----------\n",
            "speaking sexual harassment allegations rajkumar hirani sonam kapoor said i ve known hirani many years what true metoo movement get derailed in metoo movement always believe woman case need reserve judgment added hirani accused assistant worked sanju \n",
            "\n"
          ],
          "name": "stdout"
        }
      ]
    },
    {
      "cell_type": "code",
      "metadata": {
        "id": "VdO-GCSoPt5A",
        "colab": {
          "base_uri": "https://localhost:8080/",
          "height": 294
        },
        "outputId": "b98dc284-427a-4217-be47-0c2a85aa4a2c"
      },
      "source": [
        "# distribution of words\n",
        "text_word_count = []\n",
        "headlines_word_count = []\n",
        "\n",
        "for i in cleaned_text:\n",
        "    text_word_count.append(len(i.split()))\n",
        "for i in cleaned_headlines:\n",
        "    headlines_word_count.append(len(i.split()))\n",
        "\n",
        "text_df = pd.DataFrame({'Text': text_word_count})\n",
        "text_df.hist(bins=15)\n",
        "plt.xlabel('Size of text')\n",
        "plt.ylabel('Number of texts per size')\n",
        "\n",
        "plt.show()"
      ],
      "execution_count": null,
      "outputs": [
        {
          "output_type": "display_data",
          "data": {
            "image/png": "[encoded data removed]",
            "text/plain": [
              "<Figure size 432x288 with 1 Axes>"
            ]
          },
          "metadata": {
            "tags": [],
            "needs_background": "light"
          }
        }
      ]
    },
    {
      "cell_type": "code",
      "metadata": {
        "colab": {
          "base_uri": "https://localhost:8080/",
          "height": 312
        },
        "id": "KEzhHPjUqdtx",
        "outputId": "187b1306-079c-41d5-a1cf-ac6ceb233bc7"
      },
      "source": [
        "headlines_df = pd.DataFrame({'Headlines': headlines_word_count})\n",
        "headlines_df.hist(bins=15)\n",
        "plt.xlabel('Size of headline')\n",
        "plt.ylabel('Number of headlines per size')"
      ],
      "execution_count": null,
      "outputs": [
        {
          "output_type": "execute_result",
          "data": {
            "text/plain": [
              "Text(0, 0.5, 'Number of headlines per size')"
            ]
          },
          "metadata": {
            "tags": []
          },
          "execution_count": 10
        },
        {
          "output_type": "display_data",
          "data": {
            "image/png": "[encoded data removed]",
            "text/plain": [
              "<Figure size 432x288 with 1 Axes>"
            ]
          },
          "metadata": {
            "tags": [],
            "needs_background": "light"
          }
        }
      ]
    },
    {
      "cell_type": "code",
      "metadata": {
        "id": "inBEBsQdPzd1",
        "colab": {
          "base_uri": "https://localhost:8080/"
        },
        "outputId": "46209907-06f8-40a3-d385-68ad6b3efe79"
      },
      "source": [
        "count = 0\n",
        "for i in cleaned_text:\n",
        "    if(len(i.split())<=55):\n",
        "        count += 1\n",
        "print(count/len(cleaned_text))"
      ],
      "execution_count": null,
      "outputs": [
        {
          "output_type": "stream",
          "text": [
            "0.9999593500066056\n"
          ],
          "name": "stdout"
        }
      ]
    },
    {
      "cell_type": "markdown",
      "metadata": {
        "id": "V2fex7WMdsRx"
      },
      "source": [
        "By setting the maximum lenght for text to 55, 99.99% samples will be covered."
      ]
    },
    {
      "cell_type": "markdown",
      "metadata": {
        "id": "UCexOcjHdz0O"
      },
      "source": [
        "Setting maximum text length to 55 and maximum headline length to 15. \n",
        "\n",
        "The titles generated will be 15 words, in the longest case."
      ]
    },
    {
      "cell_type": "code",
      "metadata": {
        "id": "bdRhgyWe95dw"
      },
      "source": [
        "max_headlines_len=15\n",
        "max_text_len=55"
      ],
      "execution_count": null,
      "outputs": []
    },
    {
      "cell_type": "code",
      "metadata": {
        "id": "OTA3ji8bP1S2"
      },
      "source": [
        "cleaned_text = np.array(cleaned_text)\n",
        "cleaned_headlines = np.array(cleaned_headlines)\n",
        "\n",
        "text=[]\n",
        "headlines=[]\n",
        "\n",
        "# create dataframe with previous length conditions:\n",
        "for i in range(len(cleaned_text)):\n",
        "    if(len(cleaned_headlines[i].split())<=max_headlines_len and len(cleaned_text[i].split())<=max_text_len):\n",
        "        text.append(cleaned_text[i])\n",
        "        headlines.append(cleaned_headlines[i])\n",
        "\n",
        "df=pd.DataFrame({'text':text,'headlines':headlines})\n",
        "\n",
        "## adding 'sostok': start of sentence, and 'eostok': end  of sentence as tokens in headlines\n",
        "df['headlines'] = df['headlines'].apply(lambda x : 'sostok '+ x + ' eostok')\n"
      ],
      "execution_count": null,
      "outputs": []
    },
    {
      "cell_type": "code",
      "metadata": {
        "id": "U9qcZyemBavG",
        "colab": {
          "base_uri": "https://localhost:8080/",
          "height": 414
        },
        "outputId": "eee8df9f-02eb-45ba-f5f1-87c130985446"
      },
      "source": [
        "df"
      ],
      "execution_count": null,
      "outputs": [
        {
          "output_type": "execute_result",
          "data": {
            "text/html": [
              "<div>\n",
              "<style scoped>\n",
              "    .dataframe tbody tr th:only-of-type {\n",
              "        vertical-align: middle;\n",
              "    }\n",
              "\n",
              "    .dataframe tbody tr th {\n",
              "        vertical-align: top;\n",
              "    }\n",
              "\n",
              "    .dataframe thead th {\n",
              "        text-align: right;\n",
              "    }\n",
              "</style>\n",
              "<table border=\"1\" class=\"dataframe\">\n",
              "  <thead>\n",
              "    <tr style=\"text-align: right;\">\n",
              "      <th></th>\n",
              "      <th>text</th>\n",
              "      <th>headlines</th>\n",
              "    </tr>\n",
              "  </thead>\n",
              "  <tbody>\n",
              "    <tr>\n",
              "      <th>0</th>\n",
              "      <td>saurav kant alumnus upgrad iiit b s pg program...</td>\n",
              "      <td>sostok upgrad learner switches to career in ml...</td>\n",
              "    </tr>\n",
              "    <tr>\n",
              "      <th>1</th>\n",
              "      <td>kunal shah s credit card bill payment platform...</td>\n",
              "      <td>sostok delhi techie wins free food from swiggy...</td>\n",
              "    </tr>\n",
              "    <tr>\n",
              "      <th>2</th>\n",
              "      <td>new zealand defeated india wickets fourth odi ...</td>\n",
              "      <td>sostok new zealand end rohit sharma led india ...</td>\n",
              "    </tr>\n",
              "    <tr>\n",
              "      <th>3</th>\n",
              "      <td>aegon life iterm insurance plan customers enjo...</td>\n",
              "      <td>sostok aegon life iterm insurance plan helps c...</td>\n",
              "    </tr>\n",
              "    <tr>\n",
              "      <th>4</th>\n",
              "      <td>speaking sexual harassment allegations rajkuma...</td>\n",
              "      <td>sostok have known hirani for yrs what if metoo...</td>\n",
              "    </tr>\n",
              "    <tr>\n",
              "      <th>...</th>\n",
              "      <td>...</td>\n",
              "      <td>...</td>\n",
              "    </tr>\n",
              "    <tr>\n",
              "      <th>98373</th>\n",
              "      <td>crpf jawan tuesday axed death sharp edged weap...</td>\n",
              "      <td>sostok crpf jawan axed to death by maoists in ...</td>\n",
              "    </tr>\n",
              "    <tr>\n",
              "      <th>98374</th>\n",
              "      <td>uff yeh first song sonakshi sinha starrer upc...</td>\n",
              "      <td>sostok first song from sonakshi sinha s noor t...</td>\n",
              "    </tr>\n",
              "    <tr>\n",
              "      <th>98375</th>\n",
              "      <td>according reports new version science fiction ...</td>\n",
              "      <td>sostok  the matrix film to get a reboot report...</td>\n",
              "    </tr>\n",
              "    <tr>\n",
              "      <th>98376</th>\n",
              "      <td>new music video shows rapper snoop dogg aiming...</td>\n",
              "      <td>sostok snoop dogg aims gun at clown dressed as...</td>\n",
              "    </tr>\n",
              "    <tr>\n",
              "      <th>98377</th>\n",
              "      <td>madhesi morcha alliance seven political partie...</td>\n",
              "      <td>sostok madhesi morcha withdraws support to nep...</td>\n",
              "    </tr>\n",
              "  </tbody>\n",
              "</table>\n",
              "<p>98378 rows × 2 columns</p>\n",
              "</div>"
            ],
            "text/plain": [
              "                                                    text                                          headlines\n",
              "0      saurav kant alumnus upgrad iiit b s pg program...  sostok upgrad learner switches to career in ml...\n",
              "1      kunal shah s credit card bill payment platform...  sostok delhi techie wins free food from swiggy...\n",
              "2      new zealand defeated india wickets fourth odi ...  sostok new zealand end rohit sharma led india ...\n",
              "3      aegon life iterm insurance plan customers enjo...  sostok aegon life iterm insurance plan helps c...\n",
              "4      speaking sexual harassment allegations rajkuma...  sostok have known hirani for yrs what if metoo...\n",
              "...                                                  ...                                                ...\n",
              "98373  crpf jawan tuesday axed death sharp edged weap...  sostok crpf jawan axed to death by maoists in ...\n",
              "98374   uff yeh first song sonakshi sinha starrer upc...  sostok first song from sonakshi sinha s noor t...\n",
              "98375  according reports new version science fiction ...  sostok  the matrix film to get a reboot report...\n",
              "98376  new music video shows rapper snoop dogg aiming...  sostok snoop dogg aims gun at clown dressed as...\n",
              "98377  madhesi morcha alliance seven political partie...  sostok madhesi morcha withdraws support to nep...\n",
              "\n",
              "[98378 rows x 2 columns]"
            ]
          },
          "metadata": {
            "tags": []
          },
          "execution_count": 14
        }
      ]
    },
    {
      "cell_type": "markdown",
      "metadata": {
        "id": "Rx_GdqEy9wNZ"
      },
      "source": [
        "#3. Write to file preprocessed data"
      ]
    },
    {
      "cell_type": "code",
      "metadata": {
        "id": "_IxTOJSddrcD"
      },
      "source": [
        "from sklearn.model_selection import train_test_split\n",
        "#train and test split\n",
        "x_tr, x_test, y_tr, y_test=train_test_split(np.array(df['text']), np.array(df['headlines']), test_size=0.15, random_state=0, shuffle=True)\n",
        "\n",
        "#train and val split\n",
        "x_tr, x_val, y_tr, y_val=train_test_split(x_tr, y_tr , test_size=0.15, random_state=0, shuffle=True)"
      ],
      "execution_count": null,
      "outputs": []
    },
    {
      "cell_type": "code",
      "metadata": {
        "id": "_ux2xsIwgeW6"
      },
      "source": [
        "training_news = pd.DataFrame({'text':x_tr, 'headlines':y_tr})\n",
        "test_news = pd.DataFrame({'text':x_test, 'headlines':y_test})\n",
        "validation_news = pd.DataFrame({'text':x_val, 'headlines': y_val})"
      ],
      "execution_count": null,
      "outputs": []
    },
    {
      "cell_type": "code",
      "metadata": {
        "id": "23avO6v49y6O"
      },
      "source": [
        "training_news.to_csv(results_path+'training_news_preprocessed.csv',index=False)\n",
        "test_news.to_csv(results_path+'test_news_preprocessed.csv',index=False)\n",
        "validation_news.to_csv(results_path+'validation_news_preprocessed.csv',index=False)"
      ],
      "execution_count": null,
      "outputs": []
    }
  ]
}