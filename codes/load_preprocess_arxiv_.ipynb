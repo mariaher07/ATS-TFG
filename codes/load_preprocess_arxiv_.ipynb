{
  "nbformat": 4,
  "nbformat_minor": 0,
  "metadata": {
    "accelerator": "TPU",
    "colab": {
      "name": "load_preprocess_arxiv.ipynb",
      "provenance": [],
      "collapsed_sections": []
    },
    "kernelspec": {
      "display_name": "Python 3",
      "language": "python",
      "name": "python3"
    },
    "language_info": {
      "codemirror_mode": {
        "name": "ipython",
        "version": 3
      },
      "file_extension": ".py",
      "mimetype": "text/x-python",
      "name": "python",
      "nbconvert_exporter": "python",
      "pygments_lexer": "ipython3",
      "version": "3.7.4"
    }
  },
  "cells": [
    {
      "cell_type": "markdown",
      "metadata": {
        "id": "oh_IU49kz9sp"
      },
      "source": [
        "#0. Imports"
      ]
    },
    {
      "cell_type": "code",
      "metadata": {
        "id": "Rw64tRilsJTl",
        "colab": {
          "base_uri": "https://localhost:8080/"
        },
        "outputId": "bd9c3e47-31a2-4519-ff56-3282451cb069"
      },
      "source": [
        "from google.colab import drive\n",
        "drive.mount('/content/drive')\n",
        "data_path = ###\n",
        "results_path = ###"
      ],
      "execution_count": null,
      "outputs": [
        {
          "output_type": "stream",
          "text": [
            "Mounted at /content/drive\n"
          ],
          "name": "stdout"
        }
      ]
    },
    {
      "cell_type": "code",
      "metadata": {
        "colab": {
          "base_uri": "https://localhost:8080/"
        },
        "id": "AJR8bl2_rEul",
        "outputId": "39aa2aee-ed2a-412d-8928-33ca74df95d8"
      },
      "source": [
        "import numpy as np\n",
        "import pandas as pd \n",
        "import re\n",
        "import json\n",
        "from tqdm import tqdm\n",
        "\n",
        "from nltk import download\n",
        "download('stopwords')\n",
        "from nltk.corpus import stopwords\n",
        "import string\n",
        "import matplotlib.pyplot as plt"
      ],
      "execution_count": null,
      "outputs": [
        {
          "output_type": "stream",
          "text": [
            "[nltk_data] Downloading package stopwords to /root/nltk_data...\n",
            "[nltk_data]   Unzipping corpora/stopwords.zip.\n"
          ],
          "name": "stdout"
        }
      ]
    },
    {
      "cell_type": "markdown",
      "metadata": {
        "id": "T6BBk5lY0Az1"
      },
      "source": [
        "#1. Load dataset"
      ]
    },
    {
      "cell_type": "code",
      "metadata": {
        "id": "46G6F2DdrEux"
      },
      "source": [
        "# load json file\n",
        "\n",
        "data_file = data_path+'/arxiv-metadata-oai-snapshot.json'\n",
        "\n",
        "\"\"\" loading articles not overloading memory\"\"\"\n",
        "\n",
        "def get_metadata():\n",
        "    with open(data_file, 'r') as f:\n",
        "        for line in f:\n",
        "            yield line\n",
        "\n",
        "# we will consider specific categories for training: https://arxiv.org/category_taxonomy\n",
        "\n",
        "# categories related to computer science\n",
        "paper_categories = [\"cs.AI\", # Artificial Intelligence\n",
        "                    \"cs.CV\", # Computer Vision and Pattern Recognition\n",
        "                    \"cs.LG\", # Machine Learning\n",
        "                    \"cs.HC\", # Human-Computer Interaction\n",
        "                    \"cs.CL\", # Computation and Language\n",
        "                    \"cs.CY\", # Computers and Society\n",
        "                    \"cs.NE\", # Neural and Evolutionary Computing\n",
        "                    \"cs.IR\", # Information Retrieval\n",
        "                    \"cs.SI\", # Social and Information Networks\n",
        "                    \"cs.DS\", # Data Structure and Algorithms\n",
        "                    \"cs.LO\", # Logic in Computer Science\n",
        "                    \"cs.DC\", # Distributed, Parallel, and Cluster Computing\n",
        "                    \"cs.CR\", # Cryptography and Security\n",
        "                    \"cs.GL\", # General Literature\n",
        "                    \"cs.MA\", # Multiagent Systems\n",
        "                    \"cs.PL\", # Programming Languages\n",
        "                    \"cs.RO\", # Robotics\n",
        "                    \"cs.SC\", # Symbolic Computation\n",
        "                    \"cs.SD\", # Sound\n",
        "                    \"cs.SE\", # Software Engineering\n",
        "                    \"cs.ET\"] # Emerging Technologies\n",
        "\n",
        "\n",
        "\n",
        "list_categories=[]\n",
        "\n",
        "#build dataset filtering articles by categories in the list\n",
        "def build_dataset(categories=paper_categories):\n",
        "    titles = []\n",
        "    abstracts = []\n",
        "    metadata = get_metadata()\n",
        "    for paper in tqdm(metadata):\n",
        "        paper_dict = json.loads(paper)\n",
        "        category = paper_dict.get('categories')\n",
        "        if category not in list_categories:\n",
        "          list_categories.append(category)\n",
        "        if category in categories:\n",
        "            try:\n",
        "                titles.append(paper_dict.get('title'))\n",
        "                abstracts.append(paper_dict.get('abstract').replace(\"\\n\",\"\"))\n",
        "            except:\n",
        "                pass \n",
        "\n",
        "    papers = pd.DataFrame({'title': titles,'abstract': abstracts})\n",
        "    papers = papers.dropna()\n",
        "    papers[\"title\"] = papers[\"title\"].apply(lambda x: re.sub('\\s+',' ', x))\n",
        "    papers[\"abstract\"] = papers[\"abstract\"].apply(lambda x: re.sub('\\s+',' ', x))\n",
        "\n",
        "    del titles, abstracts\n",
        "    return papers"
      ],
      "execution_count": null,
      "outputs": []
    },
    {
      "cell_type": "code",
      "metadata": {
        "id": "m0HCIjn1mY4G",
        "colab": {
          "base_uri": "https://localhost:8080/"
        },
        "outputId": "7fa4c90b-0854-4cfb-fd41-3a0fb6e74315"
      },
      "source": [
        "papers = build_dataset()"
      ],
      "execution_count": null,
      "outputs": [
        {
          "output_type": "stream",
          "text": [
            "1893925it [04:56, 6391.16it/s]\n"
          ],
          "name": "stderr"
        }
      ]
    },
    {
      "cell_type": "code",
      "metadata": {
        "colab": {
          "base_uri": "https://localhost:8080/",
          "height": 414
        },
        "id": "KfX90LKwOW0G",
        "outputId": "cd218280-a864-411b-9729-6e3b11b44008"
      },
      "source": [
        "papers"
      ],
      "execution_count": null,
      "outputs": [
        {
          "output_type": "execute_result",
          "data": {
            "text/html": [
              "<div>\n",
              "<style scoped>\n",
              "    .dataframe tbody tr th:only-of-type {\n",
              "        vertical-align: middle;\n",
              "    }\n",
              "\n",
              "    .dataframe tbody tr th {\n",
              "        vertical-align: top;\n",
              "    }\n",
              "\n",
              "    .dataframe thead th {\n",
              "        text-align: right;\n",
              "    }\n",
              "</style>\n",
              "<table border=\"1\" class=\"dataframe\">\n",
              "  <thead>\n",
              "    <tr style=\"text-align: right;\">\n",
              "      <th></th>\n",
              "      <th>title</th>\n",
              "      <th>abstract</th>\n",
              "    </tr>\n",
              "  </thead>\n",
              "  <tbody>\n",
              "    <tr>\n",
              "      <th>0</th>\n",
              "      <td>On-line Viterbi Algorithm and Its Relationship...</td>\n",
              "      <td>In this paper, we introduce the on-line Viter...</td>\n",
              "    </tr>\n",
              "    <tr>\n",
              "      <th>1</th>\n",
              "      <td>Refuting the Pseudo Attack on the REESSE1+ Cry...</td>\n",
              "      <td>We illustrate through example 1 and 2 that th...</td>\n",
              "    </tr>\n",
              "    <tr>\n",
              "      <th>2</th>\n",
              "      <td>P-adic arithmetic coding</td>\n",
              "      <td>A new incremental algorithm for data compress...</td>\n",
              "    </tr>\n",
              "    <tr>\n",
              "      <th>3</th>\n",
              "      <td>Lessons Learned from the deployment of a high-...</td>\n",
              "      <td>This paper presents an experimental study and...</td>\n",
              "    </tr>\n",
              "    <tr>\n",
              "      <th>4</th>\n",
              "      <td>Text Line Segmentation of Historical Documents...</td>\n",
              "      <td>There is a huge amount of historical document...</td>\n",
              "    </tr>\n",
              "    <tr>\n",
              "      <th>...</th>\n",
              "      <td>...</td>\n",
              "      <td>...</td>\n",
              "    </tr>\n",
              "    <tr>\n",
              "      <th>100942</th>\n",
              "      <td>Fast Hierarchical Clustering and Other Applica...</td>\n",
              "      <td>We develop data structures for dynamic closes...</td>\n",
              "    </tr>\n",
              "    <tr>\n",
              "      <th>100943</th>\n",
              "      <td>Mixed-Level Knowledge Representation and Varia...</td>\n",
              "      <td>A system is described that uses a mixed-level...</td>\n",
              "    </tr>\n",
              "    <tr>\n",
              "      <th>100944</th>\n",
              "      <td>Computation in an algebra of test selection cr...</td>\n",
              "      <td>One of the key concepts in testing is that of...</td>\n",
              "    </tr>\n",
              "    <tr>\n",
              "      <th>100945</th>\n",
              "      <td>Quantum Bit Commitment Expansion</td>\n",
              "      <td>The paper was retracted.</td>\n",
              "    </tr>\n",
              "    <tr>\n",
              "      <th>100946</th>\n",
              "      <td>Additive models in high dimensions</td>\n",
              "      <td>We discuss some aspects of approximating func...</td>\n",
              "    </tr>\n",
              "  </tbody>\n",
              "</table>\n",
              "<p>100947 rows × 2 columns</p>\n",
              "</div>"
            ],
            "text/plain": [
              "                                                    title                                           abstract\n",
              "0       On-line Viterbi Algorithm and Its Relationship...   In this paper, we introduce the on-line Viter...\n",
              "1       Refuting the Pseudo Attack on the REESSE1+ Cry...   We illustrate through example 1 and 2 that th...\n",
              "2                                P-adic arithmetic coding   A new incremental algorithm for data compress...\n",
              "3       Lessons Learned from the deployment of a high-...   This paper presents an experimental study and...\n",
              "4       Text Line Segmentation of Historical Documents...   There is a huge amount of historical document...\n",
              "...                                                   ...                                                ...\n",
              "100942  Fast Hierarchical Clustering and Other Applica...   We develop data structures for dynamic closes...\n",
              "100943  Mixed-Level Knowledge Representation and Varia...   A system is described that uses a mixed-level...\n",
              "100944  Computation in an algebra of test selection cr...   One of the key concepts in testing is that of...\n",
              "100945                   Quantum Bit Commitment Expansion                           The paper was retracted.\n",
              "100946                 Additive models in high dimensions   We discuss some aspects of approximating func...\n",
              "\n",
              "[100947 rows x 2 columns]"
            ]
          },
          "metadata": {
            "tags": []
          },
          "execution_count": 5
        }
      ]
    },
    {
      "cell_type": "code",
      "metadata": {
        "colab": {
          "base_uri": "https://localhost:8080/"
        },
        "id": "Q4siiC6tuHNa",
        "outputId": "5f385525-236b-466e-d4e5-5cd57c8ddd93"
      },
      "source": [
        "papers.info()"
      ],
      "execution_count": null,
      "outputs": [
        {
          "output_type": "stream",
          "text": [
            "<class 'pandas.core.frame.DataFrame'>\n",
            "Int64Index: 100947 entries, 0 to 100946\n",
            "Data columns (total 2 columns):\n",
            " #   Column    Non-Null Count   Dtype \n",
            "---  ------    --------------   ----- \n",
            " 0   title     100947 non-null  object\n",
            " 1   abstract  100947 non-null  object\n",
            "dtypes: object(2)\n",
            "memory usage: 2.3+ MB\n"
          ],
          "name": "stdout"
        }
      ]
    },
    {
      "cell_type": "code",
      "metadata": {
        "colab": {
          "base_uri": "https://localhost:8080/"
        },
        "id": "HiAy3xbmrEvF",
        "outputId": "19dcf1ae-2b20-4d36-b507-3fff748dc915"
      },
      "source": [
        "# Check for any nulls values\n",
        "papers.isnull().sum()"
      ],
      "execution_count": null,
      "outputs": [
        {
          "output_type": "execute_result",
          "data": {
            "text/plain": [
              "title       0\n",
              "abstract    0\n",
              "dtype: int64"
            ]
          },
          "metadata": {
            "tags": []
          },
          "execution_count": 7
        }
      ]
    },
    {
      "cell_type": "markdown",
      "metadata": {
        "id": "NOMNlPFErEva"
      },
      "source": [
        "#2. Preprocessing"
      ]
    },
    {
      "cell_type": "code",
      "metadata": {
        "id": "O_nWlhzXrEvc"
      },
      "source": [
        "# A list of contractions from http://stackoverflow.com/questions/19790188/expanding-english-language-contractions-in-python\n",
        "contractions =          {\"ain't\": \"is not\", \"aren't\": \"are not\",\"can't\": \"cannot\", \"'cause\": \"because\", \"could've\": \"could have\", \"couldn't\": \"could not\",\n",
        "                           \"didn't\": \"did not\",  \"doesn't\": \"does not\", \"don't\": \"do not\", \"hadn't\": \"had not\", \"hasn't\": \"has not\", \"haven't\": \"have not\",\n",
        "                           \"he'd\": \"he would\",\"he'll\": \"he will\", \"he's\": \"he is\", \"how'd\": \"how did\", \"how'd'y\": \"how do you\", \"how'll\": \"how will\", \"how's\": \"how is\",\n",
        "                           \"I'd\": \"I would\", \"I'd've\": \"I would have\", \"I'll\": \"I will\", \"I'll've\": \"I will have\",\"I'm\": \"I am\", \"I've\": \"I have\", \"i'd\": \"i would\",\n",
        "                           \"i'd've\": \"i would have\", \"i'll\": \"i will\",  \"i'll've\": \"i will have\",\"i'm\": \"i am\", \"i've\": \"i have\", \"isn't\": \"is not\", \"it'd\": \"it would\",\n",
        "                           \"it'd've\": \"it would have\", \"it'll\": \"it will\", \"it'll've\": \"it will have\",\"it's\": \"it is\", \"let's\": \"let us\", \"ma'am\": \"madam\",\n",
        "                           \"mayn't\": \"may not\", \"might've\": \"might have\",\"mightn't\": \"might not\",\"mightn't've\": \"might not have\", \"must've\": \"must have\",\n",
        "                           \"mustn't\": \"must not\", \"mustn't've\": \"must not have\", \"needn't\": \"need not\", \"needn't've\": \"need not have\",\"o'clock\": \"of the clock\",\n",
        "                           \"oughtn't\": \"ought not\", \"oughtn't've\": \"ought not have\", \"shan't\": \"shall not\", \"sha'n't\": \"shall not\", \"shan't've\": \"shall not have\",\n",
        "                           \"she'd\": \"she would\", \"she'd've\": \"she would have\", \"she'll\": \"she will\", \"she'll've\": \"she will have\", \"she's\": \"she is\",\n",
        "                           \"should've\": \"should have\", \"shouldn't\": \"should not\", \"shouldn't've\": \"should not have\", \"so've\": \"so have\",\"so's\": \"so as\",\n",
        "                           \"this's\": \"this is\",\"that'd\": \"that would\", \"that'd've\": \"that would have\", \"that's\": \"that is\", \"there'd\": \"there would\",\n",
        "                           \"there'd've\": \"there would have\", \"there's\": \"there is\", \"here's\": \"here is\",\"they'd\": \"they would\", \"they'd've\": \"they would have\",\n",
        "                           \"they'll\": \"they will\", \"they'll've\": \"they will have\", \"they're\": \"they are\", \"they've\": \"they have\", \"to've\": \"to have\",\n",
        "                           \"wasn't\": \"was not\", \"we'd\": \"we would\", \"we'd've\": \"we would have\", \"we'll\": \"we will\", \"we'll've\": \"we will have\", \"we're\": \"we are\",\n",
        "                           \"we've\": \"we have\", \"weren't\": \"were not\", \"what'll\": \"what will\", \"what'll've\": \"what will have\", \"what're\": \"what are\",\n",
        "                           \"what's\": \"what is\", \"what've\": \"what have\", \"when's\": \"when is\", \"when've\": \"when have\", \"where'd\": \"where did\", \"where's\": \"where is\",\n",
        "                           \"where've\": \"where have\", \"who'll\": \"who will\", \"who'll've\": \"who will have\", \"who's\": \"who is\", \"who've\": \"who have\",\n",
        "                           \"why's\": \"why is\", \"why've\": \"why have\", \"will've\": \"will have\", \"won't\": \"will not\", \"won't've\": \"will not have\",\n",
        "                           \"would've\": \"would have\", \"wouldn't\": \"would not\", \"wouldn't've\": \"would not have\", \"y'all\": \"you all\",\n",
        "                           \"y'all'd\": \"you all would\",\"y'all'd've\": \"you all would have\",\"y'all're\": \"you all are\",\"y'all've\": \"you all have\",\n",
        "                           \"you'd\": \"you would\", \"you'd've\": \"you would have\", \"you'll\": \"you will\", \"you'll've\": \"you will have\",\n",
        "                           \"you're\": \"you are\", \"you've\": \"you have\", \"i've\": \"i have\"}\n",
        "\n"
      ],
      "execution_count": null,
      "outputs": []
    },
    {
      "cell_type": "code",
      "metadata": {
        "id": "EDh48drTrEvj"
      },
      "source": [
        "def clean_text(text, remove_stopwords = True):\n",
        "    \n",
        "    #lower case\n",
        "    text = text.lower()\n",
        "\n",
        "    #remove contractions\n",
        "    if True:\n",
        "        text = text.split()\n",
        "        new_text = []\n",
        "        for word in text:\n",
        "            if word in contractions:\n",
        "                new_text.append(contractions[word])\n",
        "            else:\n",
        "                new_text.append(word)\n",
        "        text = \" \".join(new_text)\n",
        "\n",
        "    #remove unicode characters\n",
        "    text = text.encode('ascii', 'ignore').decode()\n",
        "\n",
        "    #remove stop words\n",
        "    if remove_stopwords:\n",
        "      stop_words = set(stopwords.words(\"english\"))\n",
        "      text = \" \".join([word for word in text.split()if word not in stop_words])\n",
        "\n",
        "    #remove punctuations\n",
        "    text = re.sub('[%s]' % re.escape(string.punctuation), ' ', text)\n",
        "\n",
        "    #remove numbers\n",
        "    text = re.sub(r'\\w*\\d+\\w*', '', text)\n",
        "\n",
        "    #replace the over spaces\n",
        "    text = re.sub('\\s{2,}', \" \", text)\n",
        "\n",
        "\n",
        "\n",
        "    return text\n"
      ],
      "execution_count": null,
      "outputs": []
    },
    {
      "cell_type": "code",
      "metadata": {
        "colab": {
          "base_uri": "https://localhost:8080/"
        },
        "id": "kyGo203_rEvx",
        "outputId": "4d6e7325-6ac0-4d82-ead3-9d950286e1c8"
      },
      "source": [
        "cleaned_titles = []\n",
        "cleaned_abstracts = []\n",
        "\n",
        "for titles in papers['title']:\n",
        "    cleaned_titles.append(clean_text(titles, remove_stopwords=False))\n",
        "print(\"Titles are complete.\")\n",
        "\n",
        "for abstract in papers['abstract']:\n",
        "    cleaned_abstracts.append(clean_text(abstract))\n",
        "print(\"Abstracts are complete.\")"
      ],
      "execution_count": null,
      "outputs": [
        {
          "output_type": "stream",
          "text": [
            "Titles are complete.\n",
            "Abstracts are complete.\n"
          ],
          "name": "stdout"
        }
      ]
    },
    {
      "cell_type": "code",
      "metadata": {
        "colab": {
          "base_uri": "https://localhost:8080/",
          "height": 294
        },
        "id": "wSs02_tlrEv_",
        "outputId": "d8639e88-8966-47d8-be99-6db9891578b9"
      },
      "source": [
        "# distribution of words\n",
        "\n",
        "abstract_word_count = []\n",
        "title_word_count = []\n",
        "\n",
        "for i in cleaned_abstracts:\n",
        "    abstract_word_count.append(len(i.split()))\n",
        "for i in cleaned_titles:\n",
        "    title_word_count.append(len(i.split()))\n",
        "\n",
        "abstract_df = pd.DataFrame({'Abstract': abstract_word_count})\n",
        "abstract_df.hist(bins=15)\n",
        "plt.xlabel('Size of abstract')\n",
        "plt.ylabel('Number of abstracts per size')\n",
        "\n",
        "plt.show()"
      ],
      "execution_count": null,
      "outputs": [
        {
          "output_type": "display_data",
          "data": {
            "image/png": "[encoded data removed]",
            "text/plain": [
              "<Figure size 432x288 with 1 Axes>"
            ]
          },
          "metadata": {
            "tags": [],
            "needs_background": "light"
          }
        }
      ]
    },
    {
      "cell_type": "code",
      "metadata": {
        "colab": {
          "base_uri": "https://localhost:8080/",
          "height": 312
        },
        "id": "f5_eWyIsstL4",
        "outputId": "7f8ce719-b9d1-44f1-c04c-23b0c03a779a"
      },
      "source": [
        "titles_df = pd.DataFrame({'Titles': title_word_count})\n",
        "titles_df.hist(bins=15)\n",
        "plt.xlabel('Size of title')\n",
        "plt.ylabel('Number of titles per size')"
      ],
      "execution_count": null,
      "outputs": [
        {
          "output_type": "execute_result",
          "data": {
            "text/plain": [
              "Text(0, 0.5, 'Number of titles per size')"
            ]
          },
          "metadata": {
            "tags": []
          },
          "execution_count": 12
        },
        {
          "output_type": "display_data",
          "data": {
            "image/png": "[encoded data removed]",
            "text/plain": [
              "<Figure size 432x288 with 1 Axes>"
            ]
          },
          "metadata": {
            "tags": [],
            "needs_background": "light"
          }
        }
      ]
    },
    {
      "cell_type": "markdown",
      "metadata": {
        "id": "xscepY-2rL57"
      },
      "source": [
        "By limitting abstract length to 180, 98% of papers will be covered."
      ]
    },
    {
      "cell_type": "code",
      "metadata": {
        "colab": {
          "base_uri": "https://localhost:8080/"
        },
        "id": "73mXczfLrEwG",
        "outputId": "2a3fa7ce-879a-499d-e403-2546d6231eb5"
      },
      "source": [
        "counter = 0\n",
        "for i in cleaned_abstracts:\n",
        "    if(len(i.split())<=180):\n",
        "        counter += 1\n",
        "print(counter/len(cleaned_abstracts))"
      ],
      "execution_count": null,
      "outputs": [
        {
          "output_type": "stream",
          "text": [
            "0.9892715979672502\n"
          ],
          "name": "stdout"
        }
      ]
    },
    {
      "cell_type": "markdown",
      "metadata": {
        "id": "dkHagefKrbNW"
      },
      "source": [
        "By limitting title length to 20, 99% of papers will be covered."
      ]
    },
    {
      "cell_type": "code",
      "metadata": {
        "colab": {
          "base_uri": "https://localhost:8080/"
        },
        "id": "upkNPU7WAtzX",
        "outputId": "c578df30-8206-4a48-fa3b-236e0ccea158"
      },
      "source": [
        "counter = 0\n",
        "for i in cleaned_titles:\n",
        "    if(len(i.split())<=20):\n",
        "        counter += 1\n",
        "print(counter/len(cleaned_titles))"
      ],
      "execution_count": null,
      "outputs": [
        {
          "output_type": "stream",
          "text": [
            "0.9949676562948874\n"
          ],
          "name": "stdout"
        }
      ]
    },
    {
      "cell_type": "code",
      "metadata": {
        "id": "l0iIs-OPrEwM"
      },
      "source": [
        "#create dataframe using the length limitations chosen above\n",
        "\n",
        "max_headlines_len = 20\n",
        "max_text_len = 180\n",
        "\n",
        "cleaned_abstracts = np.array(cleaned_abstracts)\n",
        "cleaned_titles = np.array(cleaned_titles)\n",
        "\n",
        "short_text=[]\n",
        "short_headlines=[]\n",
        "\n",
        "for i in range(len(cleaned_abstracts)):\n",
        "    \n",
        "    if(len(cleaned_titles[i].split())<=max_headlines_len and len(cleaned_abstracts[i].split())<=max_text_len):\n",
        "        short_text.append(cleaned_abstracts[i])\n",
        "        short_headlines.append(cleaned_titles[i])\n",
        "\n",
        "## adding 'sostok': start of sentence, and 'eostok': end  of sentence as tokens in headlines\n",
        "df=pd.DataFrame({'text':short_text,'headlines':short_headlines})\n",
        "df['headlines'] = df['headlines'].apply(lambda x : 'sostok '+ x + ' eostok')\n"
      ],
      "execution_count": null,
      "outputs": []
    },
    {
      "cell_type": "code",
      "metadata": {
        "colab": {
          "base_uri": "https://localhost:8080/",
          "height": 414
        },
        "id": "5u3uNW-qrEwT",
        "outputId": "d49786e6-82e3-4600-beeb-21367ec6e8f7"
      },
      "source": [
        "df"
      ],
      "execution_count": null,
      "outputs": [
        {
          "output_type": "execute_result",
          "data": {
            "text/html": [
              "<div>\n",
              "<style scoped>\n",
              "    .dataframe tbody tr th:only-of-type {\n",
              "        vertical-align: middle;\n",
              "    }\n",
              "\n",
              "    .dataframe tbody tr th {\n",
              "        vertical-align: top;\n",
              "    }\n",
              "\n",
              "    .dataframe thead th {\n",
              "        text-align: right;\n",
              "    }\n",
              "</style>\n",
              "<table border=\"1\" class=\"dataframe\">\n",
              "  <thead>\n",
              "    <tr style=\"text-align: right;\">\n",
              "      <th></th>\n",
              "      <th>text</th>\n",
              "      <th>headlines</th>\n",
              "    </tr>\n",
              "  </thead>\n",
              "  <tbody>\n",
              "    <tr>\n",
              "      <th>0</th>\n",
              "      <td>paper introduce on line viterbi algorithm deco...</td>\n",
              "      <td>sostok on line viterbi algorithm and its relat...</td>\n",
              "    </tr>\n",
              "    <tr>\n",
              "      <th>1</th>\n",
              "      <td>illustrate example condition theorem dissatisf...</td>\n",
              "      <td>sostok refuting the pseudo attack on the crypt...</td>\n",
              "    </tr>\n",
              "    <tr>\n",
              "      <th>2</th>\n",
              "      <td>new incremental algorithm data compression pre...</td>\n",
              "      <td>sostok p adic arithmetic coding eostok</td>\n",
              "    </tr>\n",
              "    <tr>\n",
              "      <th>3</th>\n",
              "      <td>paper presents experimental study lessons lear...</td>\n",
              "      <td>sostok lessons learned from the deployment of ...</td>\n",
              "    </tr>\n",
              "    <tr>\n",
              "      <th>4</th>\n",
              "      <td>huge amount historical documents libraries var...</td>\n",
              "      <td>sostok text line segmentation of historical do...</td>\n",
              "    </tr>\n",
              "    <tr>\n",
              "      <th>...</th>\n",
              "      <td>...</td>\n",
              "      <td>...</td>\n",
              "    </tr>\n",
              "    <tr>\n",
              "      <th>99365</th>\n",
              "      <td>develop data structures dynamic closest pair p...</td>\n",
              "      <td>sostok fast hierarchical clustering and other ...</td>\n",
              "    </tr>\n",
              "    <tr>\n",
              "      <th>99366</th>\n",
              "      <td>system described uses mixed level knowledge re...</td>\n",
              "      <td>sostok mixed level knowledge representation an...</td>\n",
              "    </tr>\n",
              "    <tr>\n",
              "      <th>99367</th>\n",
              "      <td>one key concepts testing adequate test sets te...</td>\n",
              "      <td>sostok computation in an algebra of test selec...</td>\n",
              "    </tr>\n",
              "    <tr>\n",
              "      <th>99368</th>\n",
              "      <td>paper retracted</td>\n",
              "      <td>sostok quantum bit commitment expansion eostok</td>\n",
              "    </tr>\n",
              "    <tr>\n",
              "      <th>99369</th>\n",
              "      <td>discuss aspects approximating functions high d...</td>\n",
              "      <td>sostok additive models in high dimensions eostok</td>\n",
              "    </tr>\n",
              "  </tbody>\n",
              "</table>\n",
              "<p>99370 rows × 2 columns</p>\n",
              "</div>"
            ],
            "text/plain": [
              "                                                    text                                          headlines\n",
              "0      paper introduce on line viterbi algorithm deco...  sostok on line viterbi algorithm and its relat...\n",
              "1      illustrate example condition theorem dissatisf...  sostok refuting the pseudo attack on the crypt...\n",
              "2      new incremental algorithm data compression pre...             sostok p adic arithmetic coding eostok\n",
              "3      paper presents experimental study lessons lear...  sostok lessons learned from the deployment of ...\n",
              "4      huge amount historical documents libraries var...  sostok text line segmentation of historical do...\n",
              "...                                                  ...                                                ...\n",
              "99365  develop data structures dynamic closest pair p...  sostok fast hierarchical clustering and other ...\n",
              "99366  system described uses mixed level knowledge re...  sostok mixed level knowledge representation an...\n",
              "99367  one key concepts testing adequate test sets te...  sostok computation in an algebra of test selec...\n",
              "99368                                   paper retracted      sostok quantum bit commitment expansion eostok\n",
              "99369  discuss aspects approximating functions high d...   sostok additive models in high dimensions eostok\n",
              "\n",
              "[99370 rows x 2 columns]"
            ]
          },
          "metadata": {
            "tags": []
          },
          "execution_count": 16
        }
      ]
    },
    {
      "cell_type": "code",
      "metadata": {
        "id": "qVYVOU64Bq1e"
      },
      "source": [
        "#reducing dataframe size to equalize the size of the other dataframe used for the training of the model\n",
        "df = df.sample(n = 98378 )"
      ],
      "execution_count": null,
      "outputs": []
    },
    {
      "cell_type": "markdown",
      "metadata": {
        "id": "2dVqFkC2BCb4"
      },
      "source": [
        "#3. Write to file preprocessed data"
      ]
    },
    {
      "cell_type": "code",
      "metadata": {
        "id": "xB8EzNGadlWj"
      },
      "source": [
        "from sklearn.model_selection import train_test_split\n",
        "#train and test split\n",
        "x_tr, x_test, y_tr, y_test=train_test_split(np.array(df['text']), np.array(df['headlines']), test_size=0.15, random_state=0, shuffle=True)\n",
        "\n",
        "#train and val split\n",
        "x_tr, x_val, y_tr, y_val=train_test_split(x_tr, y_tr , test_size=0.15, random_state=0, shuffle=True)"
      ],
      "execution_count": null,
      "outputs": []
    },
    {
      "cell_type": "code",
      "metadata": {
        "id": "-xNR-9fjhbXz"
      },
      "source": [
        "training_arxiv = pd.DataFrame({'text':x_tr, 'headlines':y_tr})\n",
        "test_arxiv = pd.DataFrame({'text':x_test, 'headlines':y_test})\n",
        "validation_arxiv = pd.DataFrame({'text':x_val, 'headlines': y_val})"
      ],
      "execution_count": null,
      "outputs": []
    },
    {
      "cell_type": "code",
      "metadata": {
        "id": "yHps6jcQBIic"
      },
      "source": [
        "training_arxiv.to_csv(results_path+'training_arxiv_preprocessed.csv',index=False)\n",
        "test_arxiv.to_csv(results_path+'test_arxiv_preprocessed.csv',index=False)\n",
        "validation_arxiv.to_csv(results_path+'validation_arxiv_preprocessed.csv',index=False)"
      ],
      "execution_count": null,
      "outputs": []
    }
  ]
}