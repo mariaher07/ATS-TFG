{
  "nbformat": 4,
  "nbformat_minor": 0,
  "metadata": {
    "accelerator": "TPU",
    "colab": {
      "name": " rouge.ipynb",
      "provenance": [],
      "collapsed_sections": []
    },
    "kernelspec": {
      "display_name": "Python 3",
      "language": "python",
      "name": "python3"
    },
    "language_info": {
      "codemirror_mode": {
        "name": "ipython",
        "version": 3
      },
      "file_extension": ".py",
      "mimetype": "text/x-python",
      "name": "python",
      "nbconvert_exporter": "python",
      "pygments_lexer": "ipython3",
      "version": "3.7.4"
    }
  },
  "cells": [
    {
      "cell_type": "markdown",
      "metadata": {
        "id": "oh_IU49kz9sp"
      },
      "source": [
        "#0. Imports"
      ]
    },
    {
      "cell_type": "code",
      "metadata": {
        "colab": {
          "base_uri": "https://localhost:8080/"
        },
        "id": "Rw64tRilsJTl",
        "outputId": "ba60bdd1-854f-4e89-c585-4bd7033af7fe"
      },
      "source": [
        "from google.colab import drive\n",
        "drive.mount('/content/drive')\n",
        "data_path = ####,
        "results_path = ####"
      ],
      "execution_count": 1,
      "outputs": [
        {
          "output_type": "stream",
          "text": [
            "Mounted at /content/drive\n"
          ],
          "name": "stdout"
        }
      ]
    },
    {
      "cell_type": "code",
      "metadata": {
        "id": "AJR8bl2_rEul"
      },
      "source": [
        "import pandas as pd "
      ],
      "execution_count": 2,
      "outputs": []
    },
    {
      "cell_type": "markdown",
      "metadata": {
        "id": "T6BBk5lY0Az1"
      },
      "source": [
        "#1. Load dataset"
      ]
    },
    {
      "cell_type": "code",
      "metadata": {
        "id": "RW-g6i0GBHcq"
      },
      "source": [
        "#modify file to read\n",
        "file = data_path+'/arxiv_predictions.csv'"
      ],
      "execution_count": 3,
      "outputs": []
    },
    {
      "cell_type": "code",
      "metadata": {
        "id": "46G6F2DdrEux"
      },
      "source": [
        "predictions = pd.read_csv(file, encoding='latin-1')\n"
      ],
      "execution_count": 4,
      "outputs": []
    },
    {
      "cell_type": "code",
      "metadata": {
        "colab": {
          "base_uri": "https://localhost:8080/",
          "height": 414
        },
        "id": "KfX90LKwOW0G",
        "outputId": "ee66d429-2f55-4c8b-aa3e-519041b195db"
      },
      "source": [
        "predictions"
      ],
      "execution_count": 5,
      "outputs": [
        {
          "output_type": "execute_result",
          "data": {
            "text/html": [
              "<div>\n",
              "<style scoped>\n",
              "    .dataframe tbody tr th:only-of-type {\n",
              "        vertical-align: middle;\n",
              "    }\n",
              "\n",
              "    .dataframe tbody tr th {\n",
              "        vertical-align: top;\n",
              "    }\n",
              "\n",
              "    .dataframe thead th {\n",
              "        text-align: right;\n",
              "    }\n",
              "</style>\n",
              "<table border=\"1\" class=\"dataframe\">\n",
              "  <thead>\n",
              "    <tr style=\"text-align: right;\">\n",
              "      <th></th>\n",
              "      <th>real_title</th>\n",
              "      <th>predicted_title</th>\n",
              "    </tr>\n",
              "  </thead>\n",
              "  <tbody>\n",
              "    <tr>\n",
              "      <th>0</th>\n",
              "      <td>a configuration model with closure</td>\n",
              "      <td>a new method for the construction of a real t...</td>\n",
              "    </tr>\n",
              "    <tr>\n",
              "      <th>1</th>\n",
              "      <td>an analysis of the attestation protocol using</td>\n",
              "      <td>a new key distribution scheme for the key dis...</td>\n",
              "    </tr>\n",
              "    <tr>\n",
              "      <th>2</th>\n",
              "      <td>consensus in the age of blockchains</td>\n",
              "      <td>a survey of blockchain consensus</td>\n",
              "    </tr>\n",
              "    <tr>\n",
              "      <th>3</th>\n",
              "      <td>a forward stable deep neural network</td>\n",
              "      <td>deep residual networks for semantic segmentation</td>\n",
              "    </tr>\n",
              "    <tr>\n",
              "      <th>4</th>\n",
              "      <td>on the of fully homomorphic encryption</td>\n",
              "      <td>a secure and efficient cloud based encryption...</td>\n",
              "    </tr>\n",
              "    <tr>\n",
              "      <th>...</th>\n",
              "      <td>...</td>\n",
              "      <td>...</td>\n",
              "    </tr>\n",
              "    <tr>\n",
              "      <th>14752</th>\n",
              "      <td>usability of a case study of software verifica...</td>\n",
              "      <td>a tool for evaluating the impact of software ...</td>\n",
              "    </tr>\n",
              "    <tr>\n",
              "      <th>14753</th>\n",
              "      <td>retrieving and reading a comprehensive survey ...</td>\n",
              "      <td>a survey of question answering datasets</td>\n",
              "    </tr>\n",
              "    <tr>\n",
              "      <th>14754</th>\n",
              "      <td>guaranteed and finite regret analysis of a cog...</td>\n",
              "      <td>a new reinforcement learning approach to the ...</td>\n",
              "    </tr>\n",
              "    <tr>\n",
              "      <th>14755</th>\n",
              "      <td>learning to extract a video sequence from a si...</td>\n",
              "      <td>motion deblurring for video surveillance</td>\n",
              "    </tr>\n",
              "    <tr>\n",
              "      <th>14756</th>\n",
              "      <td>a deep ranking model for spatio temporal highl...</td>\n",
              "      <td>a deep learning approach for video summarization</td>\n",
              "    </tr>\n",
              "  </tbody>\n",
              "</table>\n",
              "<p>14757 rows × 2 columns</p>\n",
              "</div>"
            ],
            "text/plain": [
              "                                              real_title                                    predicted_title\n",
              "0                    a configuration model with closure    a new method for the construction of a real t...\n",
              "1         an analysis of the attestation protocol using    a new key distribution scheme for the key dis...\n",
              "2                   consensus in the age of blockchains                    a survey of blockchain consensus\n",
              "3                  a forward stable deep neural network    deep residual networks for semantic segmentation\n",
              "4                on the of fully homomorphic encryption    a secure and efficient cloud based encryption...\n",
              "...                                                  ...                                                ...\n",
              "14752  usability of a case study of software verifica...   a tool for evaluating the impact of software ...\n",
              "14753  retrieving and reading a comprehensive survey ...            a survey of question answering datasets\n",
              "14754  guaranteed and finite regret analysis of a cog...   a new reinforcement learning approach to the ...\n",
              "14755  learning to extract a video sequence from a si...           motion deblurring for video surveillance\n",
              "14756  a deep ranking model for spatio temporal highl...   a deep learning approach for video summarization\n",
              "\n",
              "[14757 rows x 2 columns]"
            ]
          },
          "metadata": {
            "tags": []
          },
          "execution_count": 5
        }
      ]
    },
    {
      "cell_type": "code",
      "metadata": {
        "id": "7S71OdrNzYez"
      },
      "source": [
        "predictions.isnull().values.any()\n",
        "predictions.dropna(subset = [\"predicted_title\", \"real_title\"], inplace=True)"
      ],
      "execution_count": 6,
      "outputs": []
    },
    {
      "cell_type": "markdown",
      "metadata": {
        "id": "ic_7TATqjKrC"
      },
      "source": [
        "#2. Evaluation: ROUGE"
      ]
    },
    {
      "cell_type": "code",
      "metadata": {
        "colab": {
          "base_uri": "https://localhost:8080/"
        },
        "id": "ev2rKWaSpTPd",
        "outputId": "4cd1a397-fd03-4bff-9775-cbd7b516b4f4"
      },
      "source": [
        "!pip install rouge"
      ],
      "execution_count": 7,
      "outputs": [
        {
          "output_type": "stream",
          "text": [
            "Collecting rouge\n",
            "  Downloading https://files.pythonhosted.org/packages/43/cc/e18e33be20971ff73a056ebdb023476b5a545e744e3fc22acd8c758f1e0d/rouge-1.0.0-py3-none-any.whl\n",
            "Requirement already satisfied: six in /usr/local/lib/python3.7/dist-packages (from rouge) (1.15.0)\n",
            "Installing collected packages: rouge\n",
            "Successfully installed rouge-1.0.0\n"
          ],
          "name": "stdout"
        }
      ]
    },
    {
      "cell_type": "code",
      "metadata": {
        "id": "7Kxe54trpzut"
      },
      "source": [
        "from rouge import Rouge"
      ],
      "execution_count": 8,
      "outputs": []
    },
    {
      "cell_type": "code",
      "metadata": {
        "id": "sen85C2Bp1pJ"
      },
      "source": [
        "summaries = []\n",
        "for summary in predictions.predicted_title:\n",
        "  summary = summary.strip()\n",
        "  summaries.append(summary)\n",
        "\n",
        "references = []\n",
        "for reference in predictions.real_title:\n",
        "  reference = reference.strip()\n",
        "  references.append(reference)"
      ],
      "execution_count": 9,
      "outputs": []
    },
    {
      "cell_type": "code",
      "metadata": {
        "id": "aMpltK4rp-fC"
      },
      "source": [
        "rouge = Rouge()"
      ],
      "execution_count": 10,
      "outputs": []
    },
    {
      "cell_type": "code",
      "metadata": {
        "colab": {
          "base_uri": "https://localhost:8080/"
        },
        "id": "YimsySS3p9Is",
        "outputId": "aadaba90-146d-4faa-d8b0-4c7d2788feeb"
      },
      "source": [
        "rouge.get_scores(summaries, references, avg=True)"
      ],
      "execution_count": 11,
      "outputs": [
        {
          "output_type": "execute_result",
          "data": {
            "text/plain": [
              "{'rouge-1': {'f': 0.2166639401504934,\n",
              "  'p': 0.24937147850378816,\n",
              "  'r': 0.20832348005656615},\n",
              " 'rouge-2': {'f': 0.06002189260246263,\n",
              "  'p': 0.07260299499083675,\n",
              "  'r': 0.056149493388312585},\n",
              " 'rouge-l': {'f': 0.20844987915302063,\n",
              "  'p': 0.2565552275439087,\n",
              "  'r': 0.19058442806055081}}"
            ]
          },
          "metadata": {
            "tags": []
          },
          "execution_count": 11
        }
      ]
    }
  ]
}
