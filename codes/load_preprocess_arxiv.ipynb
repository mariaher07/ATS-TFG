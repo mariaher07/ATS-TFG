{
  "nbformat": 4,
  "nbformat_minor": 0,
  "metadata": {
    "accelerator": "TPU",
    "colab": {
      "name": "load_preprocess_arxiv.ipynb",
      "provenance": [],
      "collapsed_sections": []
    },
    "kernelspec": {
      "display_name": "Python 3",
      "language": "python",
      "name": "python3"
    },
    "language_info": {
      "codemirror_mode": {
        "name": "ipython",
        "version": 3
      },
      "file_extension": ".py",
      "mimetype": "text/x-python",
      "name": "python",
      "nbconvert_exporter": "python",
      "pygments_lexer": "ipython3",
      "version": "3.7.4"
    }
  },
  "cells": [
    {
      "cell_type": "markdown",
      "metadata": {
        "id": "oh_IU49kz9sp"
      },
      "source": [
        "#0. Imports"
      ]
    },
    {
      "cell_type": "code",
      "metadata": {
        "id": "Rw64tRilsJTl",
        "colab": {
          "base_uri": "https://localhost:8080/"
        },
        "outputId": "d5355998-973f-414d-e56e-a8bc79c120b2"
      },
      "source": [
        "from google.colab import drive\n",
        "drive.mount('/content/drive')\n",
        "data_path = ####\n",
        "results_path = ####"
      ],
      "execution_count": null,
      "outputs": [
        {
          "output_type": "stream",
          "text": [
            "Drive already mounted at /content/drive; to attempt to forcibly remount, call drive.mount(\"/content/drive\", force_remount=True).\n"
          ],
          "name": "stdout"
        }
      ]
    },
    {
      "cell_type": "code",
      "metadata": {
        "colab": {
          "base_uri": "https://localhost:8080/"
        },
        "id": "AJR8bl2_rEul",
        "outputId": "148a5e4a-3572-471e-bbab-90d689cff614"
      },
      "source": [
        "import numpy as np\n",
        "import pandas as pd \n",
        "import re\n",
        "import json\n",
        "from tqdm import tqdm\n",
        "\n",
        "from nltk import download\n",
        "download('stopwords')\n",
        "from nltk.corpus import stopwords\n",
        "import string\n",
        "import matplotlib.pyplot as plt"
      ],
      "execution_count": null,
      "outputs": [
        {
          "output_type": "stream",
          "text": [
            "[nltk_data] Downloading package stopwords to /root/nltk_data...\n",
            "[nltk_data]   Package stopwords is already up-to-date!\n"
          ],
          "name": "stdout"
        }
      ]
    },
    {
      "cell_type": "markdown",
      "metadata": {
        "id": "T6BBk5lY0Az1"
      },
      "source": [
        "#1. Load dataset"
      ]
    },
    {
      "cell_type": "code",
      "metadata": {
        "id": "46G6F2DdrEux"
      },
      "source": [
        "# load json file\n",
        "\n",
        "data_file = data_path+'/arxiv-metadata-oai-snapshot.json'\n",
        "\n",
        "\"\"\" loading articles not overloading memory\"\"\"\n",
        "\n",
        "def get_metadata():\n",
        "    with open(data_file, 'r') as f:\n",
        "        for line in f:\n",
        "            yield line\n",
        "\n",
        "# we will consider specific categories for training: https://arxiv.org/category_taxonomy\n",
        "\n",
        "# categories related to computer science\n",
        "paper_categories = [\"cs.AI\", # Artificial Intelligence\n",
        "                    \"cs.CV\", # Computer Vision and Pattern Recognition\n",
        "                    \"cs.LG\", # Machine Learning\n",
        "                    \"cs.HC\", # Human-Computer Interaction\n",
        "                    \"cs.CL\", # Computation and Language\n",
        "                    \"cs.CY\", # Computers and Society\n",
        "                    \"cs.NE\", # Neural and Evolutionary Computing\n",
        "                    \"cs.IR\", # Information Retrieval\n",
        "                    \"cs.SI\", # Social and Information Networks\n",
        "                    \"cs.DS\", # Data Structure and Algorithms\n",
        "                    \"cs.LO\", # Logic in Computer Science\n",
        "                    \"cs.DC\", # Distributed, Parallel, and Cluster Computing\n",
        "                    \"cs.CR\", # Cryptography and Security\n",
        "                    \"cs.GL\", # General Literature\n",
        "                    \"cs.MA\", # Multiagent Systems\n",
        "                    \"cs.PL\", # Programming Languages\n",
        "                    \"cs.RO\", # Robotics\n",
        "                    \"cs.SC\", # Symbolic Computation\n",
        "                    \"cs.SD\", # Sound\n",
        "                    \"cs.SE\", # Software Engineering\n",
        "                    \"cs.ET\"] # Emerging Technologies\n",
        "\n",
        "\n",
        "\n",
        "list_categories=[]\n",
        "\n",
        "#build dataset filtering articles by categories in the list\n",
        "def build_dataset(categories=paper_categories):\n",
        "    titles = []\n",
        "    abstracts = []\n",
        "    metadata = get_metadata()\n",
        "    for paper in tqdm(metadata):\n",
        "        paper_dict = json.loads(paper)\n",
        "        category = paper_dict.get('categories')\n",
        "        if category not in list_categories:\n",
        "          list_categories.append(category)\n",
        "        if category in categories:\n",
        "            try:\n",
        "                titles.append(paper_dict.get('title'))\n",
        "                abstracts.append(paper_dict.get('abstract').replace(\"\\n\",\"\"))\n",
        "            except:\n",
        "                pass \n",
        "\n",
        "    papers = pd.DataFrame({'title': titles,'abstract': abstracts})\n",
        "    papers = papers.dropna()\n",
        "    papers[\"title\"] = papers[\"title\"].apply(lambda x: re.sub('\\s+',' ', x))\n",
        "    papers[\"abstract\"] = papers[\"abstract\"].apply(lambda x: re.sub('\\s+',' ', x))\n",
        "\n",
        "    del titles, abstracts\n",
        "    return papers"
      ],
      "execution_count": null,
      "outputs": []
    },
    {
      "cell_type": "code",
      "metadata": {
        "id": "m0HCIjn1mY4G"
      },
      "source": [
        "papers = build_dataset()"
      ],
      "execution_count": null,
      "outputs": []
    },
    {
      "cell_type": "code",
      "metadata": {
        "colab": {
          "base_uri": "https://localhost:8080/",
          "height": 580
        },
        "id": "KfX90LKwOW0G",
        "outputId": "d8161c5d-8346-47c6-f46b-84a1f665042f"
      },
      "source": [
        "papers"
      ],
      "execution_count": null,
      "outputs": [
        {
          "output_type": "execute_result",
          "data": {
            "text/html": [
              "<div>\n",
              "<style scoped>\n",
              "    .dataframe tbody tr th:only-of-type {\n",
              "        vertical-align: middle;\n",
              "    }\n",
              "\n",
              "    .dataframe tbody tr th {\n",
              "        vertical-align: top;\n",
              "    }\n",
              "\n",
              "    .dataframe thead th {\n",
              "        text-align: right;\n",
              "    }\n",
              "</style>\n",
              "<table border=\"1\" class=\"dataframe\">\n",
              "  <thead>\n",
              "    <tr style=\"text-align: right;\">\n",
              "      <th></th>\n",
              "      <th>title</th>\n",
              "      <th>abstract</th>\n",
              "    </tr>\n",
              "  </thead>\n",
              "  <tbody>\n",
              "    <tr>\n",
              "      <th>0</th>\n",
              "      <td>On-line Viterbi Algorithm and Its Relationship to Random Walks</td>\n",
              "      <td>In this paper, we introduce the on-line Viterbi algorithm for decoding hiddenMarkov models (HMMs) in much smaller than linear space. Our analysis ontwo-state HMMs suggests that the expected maxim...</td>\n",
              "    </tr>\n",
              "    <tr>\n",
              "      <th>1</th>\n",
              "      <td>Refuting the Pseudo Attack on the REESSE1+ Cryptosystem</td>\n",
              "      <td>We illustrate through example 1 and 2 that the condition at theorem 1 in [8]dissatisfies necessity, and the converse proposition of fact 1.1 in [8] doesnot hold, namely the condition Z/M - L/Ak &lt;...</td>\n",
              "    </tr>\n",
              "    <tr>\n",
              "      <th>2</th>\n",
              "      <td>P-adic arithmetic coding</td>\n",
              "      <td>A new incremental algorithm for data compression is presented. For a sequenceof input symbols algorithm incrementally constructs a p-adic integer number asan output. Decoding process starts with ...</td>\n",
              "    </tr>\n",
              "    <tr>\n",
              "      <th>3</th>\n",
              "      <td>Lessons Learned from the deployment of a high-interaction honeypot</td>\n",
              "      <td>This paper presents an experimental study and the lessons learned from theobservation of the attackers when logged on a compromised machine. The resultsare based on a six months period during whi...</td>\n",
              "    </tr>\n",
              "    <tr>\n",
              "      <th>4</th>\n",
              "      <td>Text Line Segmentation of Historical Documents: a Survey</td>\n",
              "      <td>There is a huge amount of historical documents in libraries and in variousNational Archives that have not been exploited electronically. Althoughautomatic reading of complete pages remains, in mo...</td>\n",
              "    </tr>\n",
              "    <tr>\n",
              "      <th>...</th>\n",
              "      <td>...</td>\n",
              "      <td>...</td>\n",
              "    </tr>\n",
              "    <tr>\n",
              "      <th>100942</th>\n",
              "      <td>Fast Hierarchical Clustering and Other Applications of Dynamic Closest Pairs</td>\n",
              "      <td>We develop data structures for dynamic closest pair problems with arbitrarydistance functions, that do not necessarily come from any geometric structureon the objects. Based on a technique previo...</td>\n",
              "    </tr>\n",
              "    <tr>\n",
              "      <th>100943</th>\n",
              "      <td>Mixed-Level Knowledge Representation and Variable-Depth Inference in Natural Language Processing</td>\n",
              "      <td>A system is described that uses a mixed-level knowledge representation basedon standard Horn Clause Logic to represent (part of) the meaning of naturallanguage documents. A variable-depth search ...</td>\n",
              "    </tr>\n",
              "    <tr>\n",
              "      <th>100944</th>\n",
              "      <td>Computation in an algebra of test selection criteria</td>\n",
              "      <td>One of the key concepts in testing is that of adequate test sets. A testselection criterion decides which test sets are adequate. In this paper, alanguage schema for specifying a large class of t...</td>\n",
              "    </tr>\n",
              "    <tr>\n",
              "      <th>100945</th>\n",
              "      <td>Quantum Bit Commitment Expansion</td>\n",
              "      <td>The paper was retracted.</td>\n",
              "    </tr>\n",
              "    <tr>\n",
              "      <th>100946</th>\n",
              "      <td>Additive models in high dimensions</td>\n",
              "      <td>We discuss some aspects of approximating functions on high-dimensional datasets with additive functions or ANOVA decompositions, that is, sums offunctions depending on fewer variables each. It is...</td>\n",
              "    </tr>\n",
              "  </tbody>\n",
              "</table>\n",
              "<p>100947 rows × 2 columns</p>\n",
              "</div>"
            ],
            "text/plain": [
              "                                                                                                   title                                                                                                                                                                                                 abstract\n",
              "0                                         On-line Viterbi Algorithm and Its Relationship to Random Walks   In this paper, we introduce the on-line Viterbi algorithm for decoding hiddenMarkov models (HMMs) in much smaller than linear space. Our analysis ontwo-state HMMs suggests that the expected maxim...\n",
              "1                                                Refuting the Pseudo Attack on the REESSE1+ Cryptosystem   We illustrate through example 1 and 2 that the condition at theorem 1 in [8]dissatisfies necessity, and the converse proposition of fact 1.1 in [8] doesnot hold, namely the condition Z/M - L/Ak <...\n",
              "2                                                                               P-adic arithmetic coding   A new incremental algorithm for data compression is presented. For a sequenceof input symbols algorithm incrementally constructs a p-adic integer number asan output. Decoding process starts with ...\n",
              "3                                     Lessons Learned from the deployment of a high-interaction honeypot   This paper presents an experimental study and the lessons learned from theobservation of the attackers when logged on a compromised machine. The resultsare based on a six months period during whi...\n",
              "4                                               Text Line Segmentation of Historical Documents: a Survey   There is a huge amount of historical documents in libraries and in variousNational Archives that have not been exploited electronically. Althoughautomatic reading of complete pages remains, in mo...\n",
              "...                                                                                                  ...                                                                                                                                                                                                      ...\n",
              "100942                      Fast Hierarchical Clustering and Other Applications of Dynamic Closest Pairs   We develop data structures for dynamic closest pair problems with arbitrarydistance functions, that do not necessarily come from any geometric structureon the objects. Based on a technique previo...\n",
              "100943  Mixed-Level Knowledge Representation and Variable-Depth Inference in Natural Language Processing   A system is described that uses a mixed-level knowledge representation basedon standard Horn Clause Logic to represent (part of) the meaning of naturallanguage documents. A variable-depth search ...\n",
              "100944                                              Computation in an algebra of test selection criteria   One of the key concepts in testing is that of adequate test sets. A testselection criterion decides which test sets are adequate. In this paper, alanguage schema for specifying a large class of t...\n",
              "100945                                                                  Quantum Bit Commitment Expansion                                                                                                                                                                                 The paper was retracted.\n",
              "100946                                                                Additive models in high dimensions   We discuss some aspects of approximating functions on high-dimensional datasets with additive functions or ANOVA decompositions, that is, sums offunctions depending on fewer variables each. It is...\n",
              "\n",
              "[100947 rows x 2 columns]"
            ]
          },
          "metadata": {
            "tags": []
          },
          "execution_count": 59
        }
      ]
    },
    {
      "cell_type": "code",
      "metadata": {
        "colab": {
          "base_uri": "https://localhost:8080/"
        },
        "id": "Q4siiC6tuHNa",
        "outputId": "476a95e4-7bb5-4744-a8cb-87f18e748b7e"
      },
      "source": [
        "papers.info()"
      ],
      "execution_count": null,
      "outputs": [
        {
          "output_type": "stream",
          "text": [
            "<class 'pandas.core.frame.DataFrame'>\n",
            "Int64Index: 100947 entries, 0 to 100946\n",
            "Data columns (total 2 columns):\n",
            " #   Column    Non-Null Count   Dtype \n",
            "---  ------    --------------   ----- \n",
            " 0   title     100947 non-null  object\n",
            " 1   abstract  100947 non-null  object\n",
            "dtypes: object(2)\n",
            "memory usage: 2.3+ MB\n"
          ],
          "name": "stdout"
        }
      ]
    },
    {
      "cell_type": "code",
      "metadata": {
        "colab": {
          "base_uri": "https://localhost:8080/"
        },
        "id": "HiAy3xbmrEvF",
        "outputId": "0af5b352-bd51-4574-c117-92f202a881c7"
      },
      "source": [
        "# Check for any nulls values\n",
        "papers.isnull().sum()"
      ],
      "execution_count": null,
      "outputs": [
        {
          "output_type": "execute_result",
          "data": {
            "text/plain": [
              "title       0\n",
              "abstract    0\n",
              "dtype: int64"
            ]
          },
          "metadata": {
            "tags": []
          },
          "execution_count": 61
        }
      ]
    },
    {
      "cell_type": "markdown",
      "metadata": {
        "id": "NOMNlPFErEva"
      },
      "source": [
        "#2. Preprocessing"
      ]
    },
    {
      "cell_type": "code",
      "metadata": {
        "id": "O_nWlhzXrEvc"
      },
      "source": [
        "# A list of contractions from http://stackoverflow.com/questions/19790188/expanding-english-language-contractions-in-python\n",
        "contractions =          {\"ain't\": \"is not\", \"aren't\": \"are not\",\"can't\": \"cannot\", \"'cause\": \"because\", \"could've\": \"could have\", \"couldn't\": \"could not\",\n",
        "                           \"didn't\": \"did not\",  \"doesn't\": \"does not\", \"don't\": \"do not\", \"hadn't\": \"had not\", \"hasn't\": \"has not\", \"haven't\": \"have not\",\n",
        "                           \"he'd\": \"he would\",\"he'll\": \"he will\", \"he's\": \"he is\", \"how'd\": \"how did\", \"how'd'y\": \"how do you\", \"how'll\": \"how will\", \"how's\": \"how is\",\n",
        "                           \"I'd\": \"I would\", \"I'd've\": \"I would have\", \"I'll\": \"I will\", \"I'll've\": \"I will have\",\"I'm\": \"I am\", \"I've\": \"I have\", \"i'd\": \"i would\",\n",
        "                           \"i'd've\": \"i would have\", \"i'll\": \"i will\",  \"i'll've\": \"i will have\",\"i'm\": \"i am\", \"i've\": \"i have\", \"isn't\": \"is not\", \"it'd\": \"it would\",\n",
        "                           \"it'd've\": \"it would have\", \"it'll\": \"it will\", \"it'll've\": \"it will have\",\"it's\": \"it is\", \"let's\": \"let us\", \"ma'am\": \"madam\",\n",
        "                           \"mayn't\": \"may not\", \"might've\": \"might have\",\"mightn't\": \"might not\",\"mightn't've\": \"might not have\", \"must've\": \"must have\",\n",
        "                           \"mustn't\": \"must not\", \"mustn't've\": \"must not have\", \"needn't\": \"need not\", \"needn't've\": \"need not have\",\"o'clock\": \"of the clock\",\n",
        "                           \"oughtn't\": \"ought not\", \"oughtn't've\": \"ought not have\", \"shan't\": \"shall not\", \"sha'n't\": \"shall not\", \"shan't've\": \"shall not have\",\n",
        "                           \"she'd\": \"she would\", \"she'd've\": \"she would have\", \"she'll\": \"she will\", \"she'll've\": \"she will have\", \"she's\": \"she is\",\n",
        "                           \"should've\": \"should have\", \"shouldn't\": \"should not\", \"shouldn't've\": \"should not have\", \"so've\": \"so have\",\"so's\": \"so as\",\n",
        "                           \"this's\": \"this is\",\"that'd\": \"that would\", \"that'd've\": \"that would have\", \"that's\": \"that is\", \"there'd\": \"there would\",\n",
        "                           \"there'd've\": \"there would have\", \"there's\": \"there is\", \"here's\": \"here is\",\"they'd\": \"they would\", \"they'd've\": \"they would have\",\n",
        "                           \"they'll\": \"they will\", \"they'll've\": \"they will have\", \"they're\": \"they are\", \"they've\": \"they have\", \"to've\": \"to have\",\n",
        "                           \"wasn't\": \"was not\", \"we'd\": \"we would\", \"we'd've\": \"we would have\", \"we'll\": \"we will\", \"we'll've\": \"we will have\", \"we're\": \"we are\",\n",
        "                           \"we've\": \"we have\", \"weren't\": \"were not\", \"what'll\": \"what will\", \"what'll've\": \"what will have\", \"what're\": \"what are\",\n",
        "                           \"what's\": \"what is\", \"what've\": \"what have\", \"when's\": \"when is\", \"when've\": \"when have\", \"where'd\": \"where did\", \"where's\": \"where is\",\n",
        "                           \"where've\": \"where have\", \"who'll\": \"who will\", \"who'll've\": \"who will have\", \"who's\": \"who is\", \"who've\": \"who have\",\n",
        "                           \"why's\": \"why is\", \"why've\": \"why have\", \"will've\": \"will have\", \"won't\": \"will not\", \"won't've\": \"will not have\",\n",
        "                           \"would've\": \"would have\", \"wouldn't\": \"would not\", \"wouldn't've\": \"would not have\", \"y'all\": \"you all\",\n",
        "                           \"y'all'd\": \"you all would\",\"y'all'd've\": \"you all would have\",\"y'all're\": \"you all are\",\"y'all've\": \"you all have\",\n",
        "                           \"you'd\": \"you would\", \"you'd've\": \"you would have\", \"you'll\": \"you will\", \"you'll've\": \"you will have\",\n",
        "                           \"you're\": \"you are\", \"you've\": \"you have\", \"i've\": \"i have\"}\n",
        "\n"
      ],
      "execution_count": null,
      "outputs": []
    },
    {
      "cell_type": "code",
      "metadata": {
        "id": "EDh48drTrEvj"
      },
      "source": [
        "def clean_text(text, remove_stopwords = True):\n",
        "    \n",
        "    #lower case\n",
        "    text = text.lower()\n",
        "\n",
        "    #remove contractions\n",
        "    if True:\n",
        "        text = text.split()\n",
        "        new_text = []\n",
        "        for word in text:\n",
        "            if word in contractions:\n",
        "                new_text.append(contractions[word])\n",
        "            else:\n",
        "                new_text.append(word)\n",
        "        text = \" \".join(new_text)\n",
        "\n",
        "    #remove unicode characters\n",
        "    text = text.encode('ascii', 'ignore').decode()\n",
        "\n",
        "    #remove stop words\n",
        "    if remove_stopwords:\n",
        "      stop_words = set(stopwords.words(\"english\"))\n",
        "      text = \" \".join([word for word in text.split()if word not in stop_words])\n",
        "\n",
        "    #remove punctuations\n",
        "    text = re.sub('[%s]' % re.escape(string.punctuation), ' ', text)\n",
        "\n",
        "    #remove numbers\n",
        "    text = re.sub(r'\\w*\\d+\\w*', '', text)\n",
        "\n",
        "    #replace the over spaces\n",
        "    text = re.sub('\\s{2,}', \" \", text)\n",
        "\n",
        "\n",
        "\n",
        "    return text\n"
      ],
      "execution_count": null,
      "outputs": []
    },
    {
      "cell_type": "code",
      "metadata": {
        "colab": {
          "base_uri": "https://localhost:8080/"
        },
        "id": "kyGo203_rEvx",
        "outputId": "c2891bdd-0f37-427f-9075-368edf0ec3ad"
      },
      "source": [
        "cleaned_titles = []\n",
        "cleaned_abstracts = []\n",
        "\n",
        "for titles in papers['title']:\n",
        "    cleaned_titles.append(clean_text(titles, remove_stopwords=False))\n",
        "print(\"Titles are complete.\")\n",
        "\n",
        "for abstract in papers['abstract']:\n",
        "    cleaned_abstracts.append(clean_text(abstract))\n",
        "print(\"Abstracts are complete.\")"
      ],
      "execution_count": null,
      "outputs": [
        {
          "output_type": "stream",
          "text": [
            "Titles are complete.\n",
            "Abstracts are complete.\n"
          ],
          "name": "stdout"
        }
      ]
    },
    {
      "cell_type": "code",
      "metadata": {
        "colab": {
          "base_uri": "https://localhost:8080/",
          "height": 281
        },
        "id": "wSs02_tlrEv_",
        "outputId": "f0fa895d-42eb-4b7d-b555-7787ed5b17ed"
      },
      "source": [
        "# distribution of words\n",
        "\n",
        "abstract_word_count = []\n",
        "title_word_count = []\n",
        "\n",
        "for i in cleaned_abstracts:\n",
        "    abstract_word_count.append(len(i.split()))\n",
        "for i in cleaned_titles:\n",
        "    title_word_count.append(len(i.split()))\n",
        "\n",
        "length_df = pd.DataFrame({'text': abstract_word_count, 'headlines': title_word_count})\n",
        "length_df.hist(bins=15)\n",
        "plt.show()"
      ],
      "execution_count": null,
      "outputs": [
        {
          "output_type": "display_data",
          "data": {
            "image/png": "[encoded data removed]",
            "text/plain": [
              "<Figure size 432x288 with 2 Axes>"
            ]
          },
          "metadata": {
            "tags": [],
            "needs_background": "light"
          }
        }
      ]
    },
    {
      "cell_type": "markdown",
      "metadata": {
        "id": "xscepY-2rL57"
      },
      "source": [
        "By limitting abstract length to 180, 98% of papers will be covered."
      ]
    },
    {
      "cell_type": "code",
      "metadata": {
        "colab": {
          "base_uri": "https://localhost:8080/"
        },
        "id": "73mXczfLrEwG",
        "outputId": "eb8c558b-dfed-492b-cd49-a8a5da8754ac"
      },
      "source": [
        "counter = 0\n",
        "for i in cleaned_abstracts:\n",
        "    if(len(i.split())<=180):\n",
        "        counter += 1\n",
        "print(counter/len(cleaned_abstracts))"
      ],
      "execution_count": null,
      "outputs": [
        {
          "output_type": "stream",
          "text": [
            "0.9892715979672502\n"
          ],
          "name": "stdout"
        }
      ]
    },
    {
      "cell_type": "markdown",
      "metadata": {
        "id": "dkHagefKrbNW"
      },
      "source": [
        "By limitting title length to 20, 99% of papers will be covered."
      ]
    },
    {
      "cell_type": "code",
      "metadata": {
        "colab": {
          "base_uri": "https://localhost:8080/"
        },
        "id": "upkNPU7WAtzX",
        "outputId": "7e237292-b980-4075-a839-a1df05756cc5"
      },
      "source": [
        "counter = 0\n",
        "for i in cleaned_titles:\n",
        "    if(len(i.split())<=20):\n",
        "        counter += 1\n",
        "print(counter/len(cleaned_titles))"
      ],
      "execution_count": null,
      "outputs": [
        {
          "output_type": "stream",
          "text": [
            "0.9949676562948874\n"
          ],
          "name": "stdout"
        }
      ]
    },
    {
      "cell_type": "code",
      "metadata": {
        "id": "l0iIs-OPrEwM"
      },
      "source": [
        "#create dataframe using the length limitations chosen above\n",
        "\n",
        "max_headlines_len = 20\n",
        "max_text_len = 180\n",
        "\n",
        "cleaned_abstracts = np.array(cleaned_abstracts)\n",
        "cleaned_titles = np.array(cleaned_titles)\n",
        "\n",
        "short_text=[]\n",
        "short_headlines=[]\n",
        "\n",
        "for i in range(len(cleaned_abstracts)):\n",
        "    \n",
        "    if(len(cleaned_titles[i].split())<=max_headlines_len and len(cleaned_abstracts[i].split())<=max_text_len):\n",
        "        short_text.append(cleaned_abstracts[i])\n",
        "        short_headlines.append(cleaned_titles[i])\n",
        "\n",
        "## adding 'sostok': start of sentence, and 'eostok': end  of sentence as tokens in headlines\n",
        "df=pd.DataFrame({'text':short_text,'headlines':short_headlines})\n",
        "df['headlines'] = df['headlines'].apply(lambda x : 'sostok '+ x + ' eostok')\n"
      ],
      "execution_count": null,
      "outputs": []
    },
    {
      "cell_type": "code",
      "metadata": {
        "colab": {
          "base_uri": "https://localhost:8080/",
          "height": 580
        },
        "id": "5u3uNW-qrEwT",
        "outputId": "0b454e32-ba68-43c2-8529-26ce3c0a2bfa"
      },
      "source": [
        "df"
      ],
      "execution_count": null,
      "outputs": [
        {
          "output_type": "execute_result",
          "data": {
            "text/html": [
              "<div>\n",
              "<style scoped>\n",
              "    .dataframe tbody tr th:only-of-type {\n",
              "        vertical-align: middle;\n",
              "    }\n",
              "\n",
              "    .dataframe tbody tr th {\n",
              "        vertical-align: top;\n",
              "    }\n",
              "\n",
              "    .dataframe thead th {\n",
              "        text-align: right;\n",
              "    }\n",
              "</style>\n",
              "<table border=\"1\" class=\"dataframe\">\n",
              "  <thead>\n",
              "    <tr style=\"text-align: right;\">\n",
              "      <th></th>\n",
              "      <th>text</th>\n",
              "      <th>headlines</th>\n",
              "    </tr>\n",
              "  </thead>\n",
              "  <tbody>\n",
              "    <tr>\n",
              "      <th>0</th>\n",
              "      <td>paper introduce on line viterbi algorithm decoding hiddenmarkov models hmms much smaller linear space analysis ontwo state hmms suggests expected maximum memory used decodesequence length n m stat...</td>\n",
              "      <td>sostok on line viterbi algorithm and its relationship to random walks eostok</td>\n",
              "    </tr>\n",
              "    <tr>\n",
              "      <th>1</th>\n",
              "      <td>illustrate example condition theorem dissatisfies necessity converse proposition fact doesnot hold namely condition z m l ak ak sufficient forf i f j f k illuminate analysis ex alogic error deduct...</td>\n",
              "      <td>sostok refuting the pseudo attack on the cryptosystem eostok</td>\n",
              "    </tr>\n",
              "    <tr>\n",
              "      <th>2</th>\n",
              "      <td>new incremental algorithm data compression presented sequenceof input symbols algorithm incrementally constructs p adic integer number asan output decoding process starts less significant part p a...</td>\n",
              "      <td>sostok p adic arithmetic coding eostok</td>\n",
              "    </tr>\n",
              "    <tr>\n",
              "      <th>3</th>\n",
              "      <td>paper presents experimental study lessons learned theobservation attackers logged compromised machine resultsare based six months period controlled experiment beenrun high interaction honeypot cor...</td>\n",
              "      <td>sostok lessons learned from the deployment of a high interaction honeypot eostok</td>\n",
              "    </tr>\n",
              "    <tr>\n",
              "      <th>4</th>\n",
              "      <td>huge amount historical documents libraries variousnational archives exploited electronically althoughautomatic reading complete pages remains cases long termobjective tasks word spotting text imag...</td>\n",
              "      <td>sostok text line segmentation of historical documents a survey eostok</td>\n",
              "    </tr>\n",
              "    <tr>\n",
              "      <th>...</th>\n",
              "      <td>...</td>\n",
              "      <td>...</td>\n",
              "    </tr>\n",
              "    <tr>\n",
              "      <th>99365</th>\n",
              "      <td>develop data structures dynamic closest pair problems arbitrarydistance functions necessarily come geometric structureon objects based technique previously used author foreuclidean closest pairs s...</td>\n",
              "      <td>sostok fast hierarchical clustering and other applications of dynamic closest pairs eostok</td>\n",
              "    </tr>\n",
              "    <tr>\n",
              "      <th>99366</th>\n",
              "      <td>system described uses mixed level knowledge representation basedon standard horn clause logic represent part of meaning naturallanguage documents variable depth search strategy outlined thatdistin...</td>\n",
              "      <td>sostok mixed level knowledge representation and variable depth inference in natural language processing eostok</td>\n",
              "    </tr>\n",
              "    <tr>\n",
              "      <th>99367</th>\n",
              "      <td>one key concepts testing adequate test sets testselection criterion decides test sets adequate paper alanguage schema specifying large class test selection criteria isdeveloped schema based two op...</td>\n",
              "      <td>sostok computation in an algebra of test selection criteria eostok</td>\n",
              "    </tr>\n",
              "    <tr>\n",
              "      <th>99368</th>\n",
              "      <td>paper retracted</td>\n",
              "      <td>sostok quantum bit commitment expansion eostok</td>\n",
              "    </tr>\n",
              "    <tr>\n",
              "      <th>99369</th>\n",
              "      <td>discuss aspects approximating functions high dimensional datasets additive functions anova decompositions is sums offunctions depending fewer variables each seen appropriatesmoothness conditions e...</td>\n",
              "      <td>sostok additive models in high dimensions eostok</td>\n",
              "    </tr>\n",
              "  </tbody>\n",
              "</table>\n",
              "<p>99370 rows × 2 columns</p>\n",
              "</div>"
            ],
            "text/plain": [
              "                                                                                                                                                                                                          text                                                                                                       headlines\n",
              "0      paper introduce on line viterbi algorithm decoding hiddenmarkov models hmms much smaller linear space analysis ontwo state hmms suggests expected maximum memory used decodesequence length n m stat...                                    sostok on line viterbi algorithm and its relationship to random walks eostok\n",
              "1      illustrate example condition theorem dissatisfies necessity converse proposition fact doesnot hold namely condition z m l ak ak sufficient forf i f j f k illuminate analysis ex alogic error deduct...                                                    sostok refuting the pseudo attack on the cryptosystem eostok\n",
              "2      new incremental algorithm data compression presented sequenceof input symbols algorithm incrementally constructs p adic integer number asan output decoding process starts less significant part p a...                                                                          sostok p adic arithmetic coding eostok\n",
              "3      paper presents experimental study lessons learned theobservation attackers logged compromised machine resultsare based six months period controlled experiment beenrun high interaction honeypot cor...                                sostok lessons learned from the deployment of a high interaction honeypot eostok\n",
              "4      huge amount historical documents libraries variousnational archives exploited electronically althoughautomatic reading complete pages remains cases long termobjective tasks word spotting text imag...                                           sostok text line segmentation of historical documents a survey eostok\n",
              "...                                                                                                                                                                                                        ...                                                                                                             ...\n",
              "99365  develop data structures dynamic closest pair problems arbitrarydistance functions necessarily come geometric structureon objects based technique previously used author foreuclidean closest pairs s...                      sostok fast hierarchical clustering and other applications of dynamic closest pairs eostok\n",
              "99366  system described uses mixed level knowledge representation basedon standard horn clause logic represent part of meaning naturallanguage documents variable depth search strategy outlined thatdistin...  sostok mixed level knowledge representation and variable depth inference in natural language processing eostok\n",
              "99367  one key concepts testing adequate test sets testselection criterion decides test sets adequate paper alanguage schema specifying large class test selection criteria isdeveloped schema based two op...                                              sostok computation in an algebra of test selection criteria eostok\n",
              "99368                                                                                                                                                                                         paper retracted                                                                   sostok quantum bit commitment expansion eostok\n",
              "99369  discuss aspects approximating functions high dimensional datasets additive functions anova decompositions is sums offunctions depending fewer variables each seen appropriatesmoothness conditions e...                                                                sostok additive models in high dimensions eostok\n",
              "\n",
              "[99370 rows x 2 columns]"
            ]
          },
          "metadata": {
            "tags": []
          },
          "execution_count": 86
        }
      ]
    },
    {
      "cell_type": "code",
      "metadata": {
        "id": "qVYVOU64Bq1e"
      },
      "source": [
        "\n",
        "#reducing dataframe size to equalize the size of the other dataframe used for the training of the model\n",
        "df = df.sample(n = 98378 )"
      ],
      "execution_count": null,
      "outputs": []
    },
    {
      "cell_type": "markdown",
      "metadata": {
        "id": "2dVqFkC2BCb4"
      },
      "source": [
        "#3. Write to file preprocessed data"
      ]
    },
    {
      "cell_type": "code",
      "metadata": {
        "id": "yHps6jcQBIic"
      },
      "source": [
        "df.head()\n",
        "df.to_csv(results_path+'arxiv_preprocessed.csv',index=False)"
      ],
      "execution_count": null,
      "outputs": []
    }
  ]
}